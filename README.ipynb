{
 "cells": [
  {
   "cell_type": "markdown",
   "id": "27cf1c6e-a6f1-4c93-baf7-304197c24638",
   "metadata": {},
   "source": [
    "```\n",
    "project-2\n",
    "|__ code\n",
    "|   |__ 01_EDA_and_Cleaning.ipynb   \n",
    "|   |__ 02_Preprocessing_and_Feature_Engineering.ipynb   \n",
    "|   |__ 03_Model_Benchmarks.ipynb\n",
    "|   |__ 04_Model_Tuning.ipynb  \n",
    "|   |__ 05_Production_Model_and_Insights.ipynb\n",
    "|   |__ 06_Kaggle_Submissions.ipynb   \n",
    "|__ data\n",
    "|   |__ train.csv\n",
    "|   |__ test.csv\n",
    "|   |__ submission_lasso.csv\n",
    "|   |__ submission_ridge.csv\n",
    "|__ images\n",
    "|   |__ coefficients.png\n",
    "|   |__ neighborhoods.png\n",
    "|   |__ predictions.png\n",
    "|__ presentation.pdf\n",
    "|__ README.md\n",
    "```"
   ]
  },
  {
   "cell_type": "code",
   "execution_count": null,
   "id": "c40bb272-1e8d-42ef-85b6-c60f36758e9f",
   "metadata": {},
   "outputs": [],
   "source": []
  }
 ],
 "metadata": {
  "kernelspec": {
   "display_name": "Python 3",
   "language": "python",
   "name": "python3"
  },
  "language_info": {
   "codemirror_mode": {
    "name": "ipython",
    "version": 3
   },
   "file_extension": ".py",
   "mimetype": "text/x-python",
   "name": "python",
   "nbconvert_exporter": "python",
   "pygments_lexer": "ipython3",
   "version": "3.8.8"
  }
 },
 "nbformat": 4,
 "nbformat_minor": 5
}

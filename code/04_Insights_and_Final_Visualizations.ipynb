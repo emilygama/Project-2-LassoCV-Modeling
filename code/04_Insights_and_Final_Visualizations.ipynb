{
 "cells": [
  {
   "cell_type": "markdown",
   "id": "3183eef4-d534-4aa2-87ae-877539a3e46c",
   "metadata": {},
   "source": [
    "## Notebook #4: Insights and Visualizations\n",
    "\n",
    "In this notebook, I will explore why my model works and what my recommendations are. I will run through validating regression assumptions for my model and visualizing my results. I will explain why I made the decisions I made, including why I ended up keeping so many features even though they were negative or zeroed out. I will explain these things as I go and will summarize my findings at the end, including a section for recommendations and future improvements to this project.\n",
    "\n",
    "Unfortunately, I have to input my model again into this notebook in order to use my visualizations correctly. I will do that below this line. Please head to  [ASSUMPTIONS CHECK AND VISUALIZATIONS](#ASSUMPTIONS_CHECK_AND_VISUALIZATIONS) to skip directly to coefficient analysis. \n",
    "\n",
    "---"
   ]
  },
  {
   "cell_type": "code",
   "execution_count": 1,
   "id": "31fc3799-76bb-47b5-b3e9-175d1a27cbed",
   "metadata": {},
   "outputs": [],
   "source": [
    "# All packages at the top\n",
    "\n",
    "import pandas as pd\n",
    "import numpy as np\n",
    "import matplotlib.pyplot as plt\n",
    "import seaborn as sns\n",
    "\n",
    "import sys\n",
    "\n",
    "if not sys.warnoptions:\n",
    "    import warnings\n",
    "    warnings.simplefilter(\"ignore\")\n",
    "    \n",
    "from sklearn.model_selection import train_test_split\n",
    "\n",
    "from sklearn.preprocessing import StandardScaler\n",
    "from sklearn.impute import SimpleImputer\n",
    "from sklearn.preprocessing import OneHotEncoder\n",
    "from sklearn.compose import make_column_transformer\n",
    "\n",
    "from sklearn.linear_model import LassoCV\n",
    "from sklearn.compose import TransformedTargetRegressor\n",
    "from sklearn.metrics import mean_squared_error, mean_absolute_error"
   ]
  },
  {
   "cell_type": "code",
   "execution_count": 5,
   "id": "4c2ce7fe-114a-4c37-a7de-ed6b36d8e632",
   "metadata": {},
   "outputs": [
    {
     "data": {
      "text/html": [
       "<div>\n",
       "<style scoped>\n",
       "    .dataframe tbody tr th:only-of-type {\n",
       "        vertical-align: middle;\n",
       "    }\n",
       "\n",
       "    .dataframe tbody tr th {\n",
       "        vertical-align: top;\n",
       "    }\n",
       "\n",
       "    .dataframe thead th {\n",
       "        text-align: right;\n",
       "    }\n",
       "</style>\n",
       "<table border=\"1\" class=\"dataframe\">\n",
       "  <thead>\n",
       "    <tr style=\"text-align: right;\">\n",
       "      <th></th>\n",
       "      <th>Id</th>\n",
       "      <th>PID</th>\n",
       "      <th>MS SubClass</th>\n",
       "      <th>MS Zoning</th>\n",
       "      <th>Lot Frontage</th>\n",
       "      <th>Lot Area</th>\n",
       "      <th>Street</th>\n",
       "      <th>Alley</th>\n",
       "      <th>Lot Shape</th>\n",
       "      <th>Land Contour</th>\n",
       "      <th>Utilities</th>\n",
       "      <th>Lot Config</th>\n",
       "      <th>Land Slope</th>\n",
       "      <th>Neighborhood</th>\n",
       "      <th>Condition 1</th>\n",
       "      <th>Condition 2</th>\n",
       "      <th>Bldg Type</th>\n",
       "      <th>House Style</th>\n",
       "      <th>Overall Qual</th>\n",
       "      <th>Overall Cond</th>\n",
       "      <th>Year Built</th>\n",
       "      <th>Year Remod/Add</th>\n",
       "      <th>Roof Style</th>\n",
       "      <th>Roof Matl</th>\n",
       "      <th>Exterior 1st</th>\n",
       "      <th>Exterior 2nd</th>\n",
       "      <th>Mas Vnr Type</th>\n",
       "      <th>Mas Vnr Area</th>\n",
       "      <th>Exter Qual</th>\n",
       "      <th>Exter Cond</th>\n",
       "      <th>Foundation</th>\n",
       "      <th>Bsmt Qual</th>\n",
       "      <th>Bsmt Cond</th>\n",
       "      <th>Bsmt Exposure</th>\n",
       "      <th>BsmtFin Type 1</th>\n",
       "      <th>BsmtFin SF 1</th>\n",
       "      <th>BsmtFin Type 2</th>\n",
       "      <th>BsmtFin SF 2</th>\n",
       "      <th>Bsmt Unf SF</th>\n",
       "      <th>Total Bsmt SF</th>\n",
       "      <th>Heating</th>\n",
       "      <th>Heating QC</th>\n",
       "      <th>Central Air</th>\n",
       "      <th>Electrical</th>\n",
       "      <th>1st Flr SF</th>\n",
       "      <th>2nd Flr SF</th>\n",
       "      <th>Low Qual Fin SF</th>\n",
       "      <th>Gr Liv Area</th>\n",
       "      <th>Bsmt Full Bath</th>\n",
       "      <th>Bsmt Half Bath</th>\n",
       "      <th>Full Bath</th>\n",
       "      <th>Half Bath</th>\n",
       "      <th>Bedroom AbvGr</th>\n",
       "      <th>Kitchen AbvGr</th>\n",
       "      <th>Kitchen Qual</th>\n",
       "      <th>TotRms AbvGrd</th>\n",
       "      <th>Functional</th>\n",
       "      <th>Fireplaces</th>\n",
       "      <th>Fireplace Qu</th>\n",
       "      <th>Garage Type</th>\n",
       "      <th>Garage Yr Blt</th>\n",
       "      <th>Garage Finish</th>\n",
       "      <th>Garage Cars</th>\n",
       "      <th>Garage Area</th>\n",
       "      <th>Garage Qual</th>\n",
       "      <th>Garage Cond</th>\n",
       "      <th>Paved Drive</th>\n",
       "      <th>Wood Deck SF</th>\n",
       "      <th>Open Porch SF</th>\n",
       "      <th>Enclosed Porch</th>\n",
       "      <th>3Ssn Porch</th>\n",
       "      <th>Screen Porch</th>\n",
       "      <th>Pool Area</th>\n",
       "      <th>Pool QC</th>\n",
       "      <th>Fence</th>\n",
       "      <th>Misc Feature</th>\n",
       "      <th>Misc Val</th>\n",
       "      <th>Mo Sold</th>\n",
       "      <th>Yr Sold</th>\n",
       "      <th>Sale Type</th>\n",
       "      <th>SalePrice</th>\n",
       "    </tr>\n",
       "  </thead>\n",
       "  <tbody>\n",
       "    <tr>\n",
       "      <th>0</th>\n",
       "      <td>109</td>\n",
       "      <td>533352170</td>\n",
       "      <td>60</td>\n",
       "      <td>RL</td>\n",
       "      <td>NaN</td>\n",
       "      <td>13517</td>\n",
       "      <td>Pave</td>\n",
       "      <td>NaN</td>\n",
       "      <td>IR1</td>\n",
       "      <td>Lvl</td>\n",
       "      <td>AllPub</td>\n",
       "      <td>CulDSac</td>\n",
       "      <td>Gtl</td>\n",
       "      <td>Sawyer</td>\n",
       "      <td>RRAe</td>\n",
       "      <td>Norm</td>\n",
       "      <td>1Fam</td>\n",
       "      <td>2Story</td>\n",
       "      <td>6</td>\n",
       "      <td>8</td>\n",
       "      <td>1976</td>\n",
       "      <td>2005</td>\n",
       "      <td>Gable</td>\n",
       "      <td>CompShg</td>\n",
       "      <td>HdBoard</td>\n",
       "      <td>Plywood</td>\n",
       "      <td>BrkFace</td>\n",
       "      <td>289.0</td>\n",
       "      <td>Gd</td>\n",
       "      <td>TA</td>\n",
       "      <td>CBlock</td>\n",
       "      <td>TA</td>\n",
       "      <td>TA</td>\n",
       "      <td>No</td>\n",
       "      <td>GLQ</td>\n",
       "      <td>533.0</td>\n",
       "      <td>Unf</td>\n",
       "      <td>0.0</td>\n",
       "      <td>192.0</td>\n",
       "      <td>725.0</td>\n",
       "      <td>GasA</td>\n",
       "      <td>Ex</td>\n",
       "      <td>Y</td>\n",
       "      <td>SBrkr</td>\n",
       "      <td>725</td>\n",
       "      <td>754</td>\n",
       "      <td>0</td>\n",
       "      <td>1479</td>\n",
       "      <td>0.0</td>\n",
       "      <td>0.0</td>\n",
       "      <td>2</td>\n",
       "      <td>1</td>\n",
       "      <td>3</td>\n",
       "      <td>1</td>\n",
       "      <td>Gd</td>\n",
       "      <td>6</td>\n",
       "      <td>Typ</td>\n",
       "      <td>0</td>\n",
       "      <td>NaN</td>\n",
       "      <td>Attchd</td>\n",
       "      <td>1976.0</td>\n",
       "      <td>RFn</td>\n",
       "      <td>2.0</td>\n",
       "      <td>475.0</td>\n",
       "      <td>TA</td>\n",
       "      <td>TA</td>\n",
       "      <td>Y</td>\n",
       "      <td>0</td>\n",
       "      <td>44</td>\n",
       "      <td>0</td>\n",
       "      <td>0</td>\n",
       "      <td>0</td>\n",
       "      <td>0</td>\n",
       "      <td>NaN</td>\n",
       "      <td>NaN</td>\n",
       "      <td>NaN</td>\n",
       "      <td>0</td>\n",
       "      <td>3</td>\n",
       "      <td>2010</td>\n",
       "      <td>WD</td>\n",
       "      <td>130500</td>\n",
       "    </tr>\n",
       "    <tr>\n",
       "      <th>1</th>\n",
       "      <td>544</td>\n",
       "      <td>531379050</td>\n",
       "      <td>60</td>\n",
       "      <td>RL</td>\n",
       "      <td>43.0</td>\n",
       "      <td>11492</td>\n",
       "      <td>Pave</td>\n",
       "      <td>NaN</td>\n",
       "      <td>IR1</td>\n",
       "      <td>Lvl</td>\n",
       "      <td>AllPub</td>\n",
       "      <td>CulDSac</td>\n",
       "      <td>Gtl</td>\n",
       "      <td>SawyerW</td>\n",
       "      <td>Norm</td>\n",
       "      <td>Norm</td>\n",
       "      <td>1Fam</td>\n",
       "      <td>2Story</td>\n",
       "      <td>7</td>\n",
       "      <td>5</td>\n",
       "      <td>1996</td>\n",
       "      <td>1997</td>\n",
       "      <td>Gable</td>\n",
       "      <td>CompShg</td>\n",
       "      <td>VinylSd</td>\n",
       "      <td>VinylSd</td>\n",
       "      <td>BrkFace</td>\n",
       "      <td>132.0</td>\n",
       "      <td>Gd</td>\n",
       "      <td>TA</td>\n",
       "      <td>PConc</td>\n",
       "      <td>Gd</td>\n",
       "      <td>TA</td>\n",
       "      <td>No</td>\n",
       "      <td>GLQ</td>\n",
       "      <td>637.0</td>\n",
       "      <td>Unf</td>\n",
       "      <td>0.0</td>\n",
       "      <td>276.0</td>\n",
       "      <td>913.0</td>\n",
       "      <td>GasA</td>\n",
       "      <td>Ex</td>\n",
       "      <td>Y</td>\n",
       "      <td>SBrkr</td>\n",
       "      <td>913</td>\n",
       "      <td>1209</td>\n",
       "      <td>0</td>\n",
       "      <td>2122</td>\n",
       "      <td>1.0</td>\n",
       "      <td>0.0</td>\n",
       "      <td>2</td>\n",
       "      <td>1</td>\n",
       "      <td>4</td>\n",
       "      <td>1</td>\n",
       "      <td>Gd</td>\n",
       "      <td>8</td>\n",
       "      <td>Typ</td>\n",
       "      <td>1</td>\n",
       "      <td>TA</td>\n",
       "      <td>Attchd</td>\n",
       "      <td>1997.0</td>\n",
       "      <td>RFn</td>\n",
       "      <td>2.0</td>\n",
       "      <td>559.0</td>\n",
       "      <td>TA</td>\n",
       "      <td>TA</td>\n",
       "      <td>Y</td>\n",
       "      <td>0</td>\n",
       "      <td>74</td>\n",
       "      <td>0</td>\n",
       "      <td>0</td>\n",
       "      <td>0</td>\n",
       "      <td>0</td>\n",
       "      <td>NaN</td>\n",
       "      <td>NaN</td>\n",
       "      <td>NaN</td>\n",
       "      <td>0</td>\n",
       "      <td>4</td>\n",
       "      <td>2009</td>\n",
       "      <td>WD</td>\n",
       "      <td>220000</td>\n",
       "    </tr>\n",
       "    <tr>\n",
       "      <th>2</th>\n",
       "      <td>153</td>\n",
       "      <td>535304180</td>\n",
       "      <td>20</td>\n",
       "      <td>RL</td>\n",
       "      <td>68.0</td>\n",
       "      <td>7922</td>\n",
       "      <td>Pave</td>\n",
       "      <td>NaN</td>\n",
       "      <td>Reg</td>\n",
       "      <td>Lvl</td>\n",
       "      <td>AllPub</td>\n",
       "      <td>Inside</td>\n",
       "      <td>Gtl</td>\n",
       "      <td>NAmes</td>\n",
       "      <td>Norm</td>\n",
       "      <td>Norm</td>\n",
       "      <td>1Fam</td>\n",
       "      <td>1Story</td>\n",
       "      <td>5</td>\n",
       "      <td>7</td>\n",
       "      <td>1953</td>\n",
       "      <td>2007</td>\n",
       "      <td>Gable</td>\n",
       "      <td>CompShg</td>\n",
       "      <td>VinylSd</td>\n",
       "      <td>VinylSd</td>\n",
       "      <td>None</td>\n",
       "      <td>0.0</td>\n",
       "      <td>TA</td>\n",
       "      <td>Gd</td>\n",
       "      <td>CBlock</td>\n",
       "      <td>TA</td>\n",
       "      <td>TA</td>\n",
       "      <td>No</td>\n",
       "      <td>GLQ</td>\n",
       "      <td>731.0</td>\n",
       "      <td>Unf</td>\n",
       "      <td>0.0</td>\n",
       "      <td>326.0</td>\n",
       "      <td>1057.0</td>\n",
       "      <td>GasA</td>\n",
       "      <td>TA</td>\n",
       "      <td>Y</td>\n",
       "      <td>SBrkr</td>\n",
       "      <td>1057</td>\n",
       "      <td>0</td>\n",
       "      <td>0</td>\n",
       "      <td>1057</td>\n",
       "      <td>1.0</td>\n",
       "      <td>0.0</td>\n",
       "      <td>1</td>\n",
       "      <td>0</td>\n",
       "      <td>3</td>\n",
       "      <td>1</td>\n",
       "      <td>Gd</td>\n",
       "      <td>5</td>\n",
       "      <td>Typ</td>\n",
       "      <td>0</td>\n",
       "      <td>NaN</td>\n",
       "      <td>Detchd</td>\n",
       "      <td>1953.0</td>\n",
       "      <td>Unf</td>\n",
       "      <td>1.0</td>\n",
       "      <td>246.0</td>\n",
       "      <td>TA</td>\n",
       "      <td>TA</td>\n",
       "      <td>Y</td>\n",
       "      <td>0</td>\n",
       "      <td>52</td>\n",
       "      <td>0</td>\n",
       "      <td>0</td>\n",
       "      <td>0</td>\n",
       "      <td>0</td>\n",
       "      <td>NaN</td>\n",
       "      <td>NaN</td>\n",
       "      <td>NaN</td>\n",
       "      <td>0</td>\n",
       "      <td>1</td>\n",
       "      <td>2010</td>\n",
       "      <td>WD</td>\n",
       "      <td>109000</td>\n",
       "    </tr>\n",
       "  </tbody>\n",
       "</table>\n",
       "</div>"
      ],
      "text/plain": [
       "    Id        PID  MS SubClass MS Zoning  Lot Frontage  Lot Area Street Alley  \\\n",
       "0  109  533352170           60        RL           NaN     13517   Pave   NaN   \n",
       "1  544  531379050           60        RL          43.0     11492   Pave   NaN   \n",
       "2  153  535304180           20        RL          68.0      7922   Pave   NaN   \n",
       "\n",
       "  Lot Shape Land Contour Utilities Lot Config Land Slope Neighborhood  \\\n",
       "0       IR1          Lvl    AllPub    CulDSac        Gtl       Sawyer   \n",
       "1       IR1          Lvl    AllPub    CulDSac        Gtl      SawyerW   \n",
       "2       Reg          Lvl    AllPub     Inside        Gtl        NAmes   \n",
       "\n",
       "  Condition 1 Condition 2 Bldg Type House Style  Overall Qual  Overall Cond  \\\n",
       "0        RRAe        Norm      1Fam      2Story             6             8   \n",
       "1        Norm        Norm      1Fam      2Story             7             5   \n",
       "2        Norm        Norm      1Fam      1Story             5             7   \n",
       "\n",
       "   Year Built  Year Remod/Add Roof Style Roof Matl Exterior 1st Exterior 2nd  \\\n",
       "0        1976            2005      Gable   CompShg      HdBoard      Plywood   \n",
       "1        1996            1997      Gable   CompShg      VinylSd      VinylSd   \n",
       "2        1953            2007      Gable   CompShg      VinylSd      VinylSd   \n",
       "\n",
       "  Mas Vnr Type  Mas Vnr Area Exter Qual Exter Cond Foundation Bsmt Qual  \\\n",
       "0      BrkFace         289.0         Gd         TA     CBlock        TA   \n",
       "1      BrkFace         132.0         Gd         TA      PConc        Gd   \n",
       "2         None           0.0         TA         Gd     CBlock        TA   \n",
       "\n",
       "  Bsmt Cond Bsmt Exposure BsmtFin Type 1  BsmtFin SF 1 BsmtFin Type 2  \\\n",
       "0        TA            No            GLQ         533.0            Unf   \n",
       "1        TA            No            GLQ         637.0            Unf   \n",
       "2        TA            No            GLQ         731.0            Unf   \n",
       "\n",
       "   BsmtFin SF 2  Bsmt Unf SF  Total Bsmt SF Heating Heating QC Central Air  \\\n",
       "0           0.0        192.0          725.0    GasA         Ex           Y   \n",
       "1           0.0        276.0          913.0    GasA         Ex           Y   \n",
       "2           0.0        326.0         1057.0    GasA         TA           Y   \n",
       "\n",
       "  Electrical  1st Flr SF  2nd Flr SF  Low Qual Fin SF  Gr Liv Area  \\\n",
       "0      SBrkr         725         754                0         1479   \n",
       "1      SBrkr         913        1209                0         2122   \n",
       "2      SBrkr        1057           0                0         1057   \n",
       "\n",
       "   Bsmt Full Bath  Bsmt Half Bath  Full Bath  Half Bath  Bedroom AbvGr  \\\n",
       "0             0.0             0.0          2          1              3   \n",
       "1             1.0             0.0          2          1              4   \n",
       "2             1.0             0.0          1          0              3   \n",
       "\n",
       "   Kitchen AbvGr Kitchen Qual  TotRms AbvGrd Functional  Fireplaces  \\\n",
       "0              1           Gd              6        Typ           0   \n",
       "1              1           Gd              8        Typ           1   \n",
       "2              1           Gd              5        Typ           0   \n",
       "\n",
       "  Fireplace Qu Garage Type  Garage Yr Blt Garage Finish  Garage Cars  \\\n",
       "0          NaN      Attchd         1976.0           RFn          2.0   \n",
       "1           TA      Attchd         1997.0           RFn          2.0   \n",
       "2          NaN      Detchd         1953.0           Unf          1.0   \n",
       "\n",
       "   Garage Area Garage Qual Garage Cond Paved Drive  Wood Deck SF  \\\n",
       "0        475.0          TA          TA           Y             0   \n",
       "1        559.0          TA          TA           Y             0   \n",
       "2        246.0          TA          TA           Y             0   \n",
       "\n",
       "   Open Porch SF  Enclosed Porch  3Ssn Porch  Screen Porch  Pool Area Pool QC  \\\n",
       "0             44               0           0             0          0     NaN   \n",
       "1             74               0           0             0          0     NaN   \n",
       "2             52               0           0             0          0     NaN   \n",
       "\n",
       "  Fence Misc Feature  Misc Val  Mo Sold  Yr Sold Sale Type  SalePrice  \n",
       "0   NaN          NaN         0        3     2010       WD      130500  \n",
       "1   NaN          NaN         0        4     2009       WD      220000  \n",
       "2   NaN          NaN         0        1     2010       WD      109000  "
      ]
     },
     "execution_count": 5,
     "metadata": {},
     "output_type": "execute_result"
    }
   ],
   "source": [
    "df_house = pd.read_csv('./datasets/train.csv')\n",
    "pd.set_option('display.max_columns', None)\n",
    "df_house.head(3)"
   ]
  },
  {
   "cell_type": "code",
   "execution_count": 6,
   "id": "120d3d7c-17a8-4825-825c-6a8f79648a33",
   "metadata": {},
   "outputs": [],
   "source": [
    "df_house.columns = df_house.columns.str.lower().str.replace(' ', '_')"
   ]
  },
  {
   "cell_type": "code",
   "execution_count": 7,
   "id": "78ef72b9-3e8f-47dc-adcf-302fe91fb766",
   "metadata": {},
   "outputs": [],
   "source": [
    "df_house.drop(columns=['pid'], inplace=True)"
   ]
  },
  {
   "cell_type": "code",
   "execution_count": 8,
   "id": "a782613a-ac16-476c-93e6-00c2614cc1f1",
   "metadata": {},
   "outputs": [],
   "source": [
    "df_house = df_house[df_house['gr_liv_area'] < 4000]  # Making sure I remove those outliers"
   ]
  },
  {
   "cell_type": "code",
   "execution_count": 9,
   "id": "114119a3-bce9-4b53-8aa9-b1d08d126b02",
   "metadata": {
    "tags": []
   },
   "outputs": [
    {
     "data": {
      "text/html": [
       "<div>\n",
       "<style scoped>\n",
       "    .dataframe tbody tr th:only-of-type {\n",
       "        vertical-align: middle;\n",
       "    }\n",
       "\n",
       "    .dataframe tbody tr th {\n",
       "        vertical-align: top;\n",
       "    }\n",
       "\n",
       "    .dataframe thead th {\n",
       "        text-align: right;\n",
       "    }\n",
       "</style>\n",
       "<table border=\"1\" class=\"dataframe\">\n",
       "  <thead>\n",
       "    <tr style=\"text-align: right;\">\n",
       "      <th></th>\n",
       "      <th>id</th>\n",
       "      <th>ms_subclass</th>\n",
       "      <th>lot_frontage</th>\n",
       "      <th>lot_area</th>\n",
       "      <th>overall_qual</th>\n",
       "      <th>overall_cond</th>\n",
       "      <th>year_built</th>\n",
       "      <th>year_remod/add</th>\n",
       "      <th>mas_vnr_area</th>\n",
       "      <th>bsmtfin_sf_1</th>\n",
       "      <th>bsmtfin_sf_2</th>\n",
       "      <th>bsmt_unf_sf</th>\n",
       "      <th>total_bsmt_sf</th>\n",
       "      <th>1st_flr_sf</th>\n",
       "      <th>2nd_flr_sf</th>\n",
       "      <th>low_qual_fin_sf</th>\n",
       "      <th>gr_liv_area</th>\n",
       "      <th>bsmt_full_bath</th>\n",
       "      <th>bsmt_half_bath</th>\n",
       "      <th>full_bath</th>\n",
       "      <th>half_bath</th>\n",
       "      <th>bedroom_abvgr</th>\n",
       "      <th>kitchen_abvgr</th>\n",
       "      <th>totrms_abvgrd</th>\n",
       "      <th>fireplaces</th>\n",
       "      <th>garage_yr_blt</th>\n",
       "      <th>garage_cars</th>\n",
       "      <th>garage_area</th>\n",
       "      <th>wood_deck_sf</th>\n",
       "      <th>open_porch_sf</th>\n",
       "      <th>enclosed_porch</th>\n",
       "      <th>3ssn_porch</th>\n",
       "      <th>screen_porch</th>\n",
       "      <th>pool_area</th>\n",
       "      <th>misc_val</th>\n",
       "      <th>mo_sold</th>\n",
       "      <th>yr_sold</th>\n",
       "      <th>saleprice</th>\n",
       "    </tr>\n",
       "  </thead>\n",
       "  <tbody>\n",
       "    <tr>\n",
       "      <th>0</th>\n",
       "      <td>109</td>\n",
       "      <td>60</td>\n",
       "      <td>NaN</td>\n",
       "      <td>13517</td>\n",
       "      <td>6</td>\n",
       "      <td>8</td>\n",
       "      <td>1976</td>\n",
       "      <td>2005</td>\n",
       "      <td>289.0</td>\n",
       "      <td>533.0</td>\n",
       "      <td>0.0</td>\n",
       "      <td>192.0</td>\n",
       "      <td>725.0</td>\n",
       "      <td>725</td>\n",
       "      <td>754</td>\n",
       "      <td>0</td>\n",
       "      <td>1479</td>\n",
       "      <td>0.0</td>\n",
       "      <td>0.0</td>\n",
       "      <td>2</td>\n",
       "      <td>1</td>\n",
       "      <td>3</td>\n",
       "      <td>1</td>\n",
       "      <td>6</td>\n",
       "      <td>0</td>\n",
       "      <td>1976.0</td>\n",
       "      <td>2.0</td>\n",
       "      <td>475.0</td>\n",
       "      <td>0</td>\n",
       "      <td>44</td>\n",
       "      <td>0</td>\n",
       "      <td>0</td>\n",
       "      <td>0</td>\n",
       "      <td>0</td>\n",
       "      <td>0</td>\n",
       "      <td>3</td>\n",
       "      <td>2010</td>\n",
       "      <td>130500</td>\n",
       "    </tr>\n",
       "    <tr>\n",
       "      <th>1</th>\n",
       "      <td>544</td>\n",
       "      <td>60</td>\n",
       "      <td>43.0</td>\n",
       "      <td>11492</td>\n",
       "      <td>7</td>\n",
       "      <td>5</td>\n",
       "      <td>1996</td>\n",
       "      <td>1997</td>\n",
       "      <td>132.0</td>\n",
       "      <td>637.0</td>\n",
       "      <td>0.0</td>\n",
       "      <td>276.0</td>\n",
       "      <td>913.0</td>\n",
       "      <td>913</td>\n",
       "      <td>1209</td>\n",
       "      <td>0</td>\n",
       "      <td>2122</td>\n",
       "      <td>1.0</td>\n",
       "      <td>0.0</td>\n",
       "      <td>2</td>\n",
       "      <td>1</td>\n",
       "      <td>4</td>\n",
       "      <td>1</td>\n",
       "      <td>8</td>\n",
       "      <td>1</td>\n",
       "      <td>1997.0</td>\n",
       "      <td>2.0</td>\n",
       "      <td>559.0</td>\n",
       "      <td>0</td>\n",
       "      <td>74</td>\n",
       "      <td>0</td>\n",
       "      <td>0</td>\n",
       "      <td>0</td>\n",
       "      <td>0</td>\n",
       "      <td>0</td>\n",
       "      <td>4</td>\n",
       "      <td>2009</td>\n",
       "      <td>220000</td>\n",
       "    </tr>\n",
       "    <tr>\n",
       "      <th>2</th>\n",
       "      <td>153</td>\n",
       "      <td>20</td>\n",
       "      <td>68.0</td>\n",
       "      <td>7922</td>\n",
       "      <td>5</td>\n",
       "      <td>7</td>\n",
       "      <td>1953</td>\n",
       "      <td>2007</td>\n",
       "      <td>0.0</td>\n",
       "      <td>731.0</td>\n",
       "      <td>0.0</td>\n",
       "      <td>326.0</td>\n",
       "      <td>1057.0</td>\n",
       "      <td>1057</td>\n",
       "      <td>0</td>\n",
       "      <td>0</td>\n",
       "      <td>1057</td>\n",
       "      <td>1.0</td>\n",
       "      <td>0.0</td>\n",
       "      <td>1</td>\n",
       "      <td>0</td>\n",
       "      <td>3</td>\n",
       "      <td>1</td>\n",
       "      <td>5</td>\n",
       "      <td>0</td>\n",
       "      <td>1953.0</td>\n",
       "      <td>1.0</td>\n",
       "      <td>246.0</td>\n",
       "      <td>0</td>\n",
       "      <td>52</td>\n",
       "      <td>0</td>\n",
       "      <td>0</td>\n",
       "      <td>0</td>\n",
       "      <td>0</td>\n",
       "      <td>0</td>\n",
       "      <td>1</td>\n",
       "      <td>2010</td>\n",
       "      <td>109000</td>\n",
       "    </tr>\n",
       "  </tbody>\n",
       "</table>\n",
       "</div>"
      ],
      "text/plain": [
       "    id  ms_subclass  lot_frontage  lot_area  overall_qual  overall_cond  \\\n",
       "0  109           60           NaN     13517             6             8   \n",
       "1  544           60          43.0     11492             7             5   \n",
       "2  153           20          68.0      7922             5             7   \n",
       "\n",
       "   year_built  year_remod/add  mas_vnr_area  bsmtfin_sf_1  bsmtfin_sf_2  \\\n",
       "0        1976            2005         289.0         533.0           0.0   \n",
       "1        1996            1997         132.0         637.0           0.0   \n",
       "2        1953            2007           0.0         731.0           0.0   \n",
       "\n",
       "   bsmt_unf_sf  total_bsmt_sf  1st_flr_sf  2nd_flr_sf  low_qual_fin_sf  \\\n",
       "0        192.0          725.0         725         754                0   \n",
       "1        276.0          913.0         913        1209                0   \n",
       "2        326.0         1057.0        1057           0                0   \n",
       "\n",
       "   gr_liv_area  bsmt_full_bath  bsmt_half_bath  full_bath  half_bath  \\\n",
       "0         1479             0.0             0.0          2          1   \n",
       "1         2122             1.0             0.0          2          1   \n",
       "2         1057             1.0             0.0          1          0   \n",
       "\n",
       "   bedroom_abvgr  kitchen_abvgr  totrms_abvgrd  fireplaces  garage_yr_blt  \\\n",
       "0              3              1              6           0         1976.0   \n",
       "1              4              1              8           1         1997.0   \n",
       "2              3              1              5           0         1953.0   \n",
       "\n",
       "   garage_cars  garage_area  wood_deck_sf  open_porch_sf  enclosed_porch  \\\n",
       "0          2.0        475.0             0             44               0   \n",
       "1          2.0        559.0             0             74               0   \n",
       "2          1.0        246.0             0             52               0   \n",
       "\n",
       "   3ssn_porch  screen_porch  pool_area  misc_val  mo_sold  yr_sold  saleprice  \n",
       "0           0             0          0         0        3     2010     130500  \n",
       "1           0             0          0         0        4     2009     220000  \n",
       "2           0             0          0         0        1     2010     109000  "
      ]
     },
     "execution_count": 9,
     "metadata": {},
     "output_type": "execute_result"
    }
   ],
   "source": [
    "df_nums = df_house.select_dtypes(include=[np.number])\n",
    "df_nums.head(3)"
   ]
  },
  {
   "cell_type": "code",
   "execution_count": 10,
   "id": "14478c10-9965-4c08-a8e6-ea1da0824dc2",
   "metadata": {},
   "outputs": [
    {
     "data": {
      "text/html": [
       "<div>\n",
       "<style scoped>\n",
       "    .dataframe tbody tr th:only-of-type {\n",
       "        vertical-align: middle;\n",
       "    }\n",
       "\n",
       "    .dataframe tbody tr th {\n",
       "        vertical-align: top;\n",
       "    }\n",
       "\n",
       "    .dataframe thead th {\n",
       "        text-align: right;\n",
       "    }\n",
       "</style>\n",
       "<table border=\"1\" class=\"dataframe\">\n",
       "  <thead>\n",
       "    <tr style=\"text-align: right;\">\n",
       "      <th></th>\n",
       "      <th>ms_zoning</th>\n",
       "      <th>street</th>\n",
       "      <th>alley</th>\n",
       "      <th>lot_shape</th>\n",
       "      <th>land_contour</th>\n",
       "      <th>utilities</th>\n",
       "      <th>lot_config</th>\n",
       "      <th>land_slope</th>\n",
       "      <th>neighborhood</th>\n",
       "      <th>condition_1</th>\n",
       "      <th>condition_2</th>\n",
       "      <th>bldg_type</th>\n",
       "      <th>house_style</th>\n",
       "      <th>roof_style</th>\n",
       "      <th>roof_matl</th>\n",
       "      <th>exterior_1st</th>\n",
       "      <th>exterior_2nd</th>\n",
       "      <th>mas_vnr_type</th>\n",
       "      <th>exter_qual</th>\n",
       "      <th>exter_cond</th>\n",
       "      <th>foundation</th>\n",
       "      <th>bsmt_qual</th>\n",
       "      <th>bsmt_cond</th>\n",
       "      <th>bsmt_exposure</th>\n",
       "      <th>bsmtfin_type_1</th>\n",
       "      <th>bsmtfin_type_2</th>\n",
       "      <th>heating</th>\n",
       "      <th>heating_qc</th>\n",
       "      <th>central_air</th>\n",
       "      <th>electrical</th>\n",
       "      <th>kitchen_qual</th>\n",
       "      <th>functional</th>\n",
       "      <th>fireplace_qu</th>\n",
       "      <th>garage_type</th>\n",
       "      <th>garage_finish</th>\n",
       "      <th>garage_qual</th>\n",
       "      <th>garage_cond</th>\n",
       "      <th>paved_drive</th>\n",
       "      <th>pool_qc</th>\n",
       "      <th>fence</th>\n",
       "      <th>misc_feature</th>\n",
       "      <th>sale_type</th>\n",
       "    </tr>\n",
       "  </thead>\n",
       "  <tbody>\n",
       "    <tr>\n",
       "      <th>0</th>\n",
       "      <td>RL</td>\n",
       "      <td>Pave</td>\n",
       "      <td>NaN</td>\n",
       "      <td>IR1</td>\n",
       "      <td>Lvl</td>\n",
       "      <td>AllPub</td>\n",
       "      <td>CulDSac</td>\n",
       "      <td>Gtl</td>\n",
       "      <td>Sawyer</td>\n",
       "      <td>RRAe</td>\n",
       "      <td>Norm</td>\n",
       "      <td>1Fam</td>\n",
       "      <td>2Story</td>\n",
       "      <td>Gable</td>\n",
       "      <td>CompShg</td>\n",
       "      <td>HdBoard</td>\n",
       "      <td>Plywood</td>\n",
       "      <td>BrkFace</td>\n",
       "      <td>Gd</td>\n",
       "      <td>TA</td>\n",
       "      <td>CBlock</td>\n",
       "      <td>TA</td>\n",
       "      <td>TA</td>\n",
       "      <td>No</td>\n",
       "      <td>GLQ</td>\n",
       "      <td>Unf</td>\n",
       "      <td>GasA</td>\n",
       "      <td>Ex</td>\n",
       "      <td>Y</td>\n",
       "      <td>SBrkr</td>\n",
       "      <td>Gd</td>\n",
       "      <td>Typ</td>\n",
       "      <td>NaN</td>\n",
       "      <td>Attchd</td>\n",
       "      <td>RFn</td>\n",
       "      <td>TA</td>\n",
       "      <td>TA</td>\n",
       "      <td>Y</td>\n",
       "      <td>NaN</td>\n",
       "      <td>NaN</td>\n",
       "      <td>NaN</td>\n",
       "      <td>WD</td>\n",
       "    </tr>\n",
       "    <tr>\n",
       "      <th>1</th>\n",
       "      <td>RL</td>\n",
       "      <td>Pave</td>\n",
       "      <td>NaN</td>\n",
       "      <td>IR1</td>\n",
       "      <td>Lvl</td>\n",
       "      <td>AllPub</td>\n",
       "      <td>CulDSac</td>\n",
       "      <td>Gtl</td>\n",
       "      <td>SawyerW</td>\n",
       "      <td>Norm</td>\n",
       "      <td>Norm</td>\n",
       "      <td>1Fam</td>\n",
       "      <td>2Story</td>\n",
       "      <td>Gable</td>\n",
       "      <td>CompShg</td>\n",
       "      <td>VinylSd</td>\n",
       "      <td>VinylSd</td>\n",
       "      <td>BrkFace</td>\n",
       "      <td>Gd</td>\n",
       "      <td>TA</td>\n",
       "      <td>PConc</td>\n",
       "      <td>Gd</td>\n",
       "      <td>TA</td>\n",
       "      <td>No</td>\n",
       "      <td>GLQ</td>\n",
       "      <td>Unf</td>\n",
       "      <td>GasA</td>\n",
       "      <td>Ex</td>\n",
       "      <td>Y</td>\n",
       "      <td>SBrkr</td>\n",
       "      <td>Gd</td>\n",
       "      <td>Typ</td>\n",
       "      <td>TA</td>\n",
       "      <td>Attchd</td>\n",
       "      <td>RFn</td>\n",
       "      <td>TA</td>\n",
       "      <td>TA</td>\n",
       "      <td>Y</td>\n",
       "      <td>NaN</td>\n",
       "      <td>NaN</td>\n",
       "      <td>NaN</td>\n",
       "      <td>WD</td>\n",
       "    </tr>\n",
       "    <tr>\n",
       "      <th>2</th>\n",
       "      <td>RL</td>\n",
       "      <td>Pave</td>\n",
       "      <td>NaN</td>\n",
       "      <td>Reg</td>\n",
       "      <td>Lvl</td>\n",
       "      <td>AllPub</td>\n",
       "      <td>Inside</td>\n",
       "      <td>Gtl</td>\n",
       "      <td>NAmes</td>\n",
       "      <td>Norm</td>\n",
       "      <td>Norm</td>\n",
       "      <td>1Fam</td>\n",
       "      <td>1Story</td>\n",
       "      <td>Gable</td>\n",
       "      <td>CompShg</td>\n",
       "      <td>VinylSd</td>\n",
       "      <td>VinylSd</td>\n",
       "      <td>None</td>\n",
       "      <td>TA</td>\n",
       "      <td>Gd</td>\n",
       "      <td>CBlock</td>\n",
       "      <td>TA</td>\n",
       "      <td>TA</td>\n",
       "      <td>No</td>\n",
       "      <td>GLQ</td>\n",
       "      <td>Unf</td>\n",
       "      <td>GasA</td>\n",
       "      <td>TA</td>\n",
       "      <td>Y</td>\n",
       "      <td>SBrkr</td>\n",
       "      <td>Gd</td>\n",
       "      <td>Typ</td>\n",
       "      <td>NaN</td>\n",
       "      <td>Detchd</td>\n",
       "      <td>Unf</td>\n",
       "      <td>TA</td>\n",
       "      <td>TA</td>\n",
       "      <td>Y</td>\n",
       "      <td>NaN</td>\n",
       "      <td>NaN</td>\n",
       "      <td>NaN</td>\n",
       "      <td>WD</td>\n",
       "    </tr>\n",
       "  </tbody>\n",
       "</table>\n",
       "</div>"
      ],
      "text/plain": [
       "  ms_zoning street alley lot_shape land_contour utilities lot_config  \\\n",
       "0        RL   Pave   NaN       IR1          Lvl    AllPub    CulDSac   \n",
       "1        RL   Pave   NaN       IR1          Lvl    AllPub    CulDSac   \n",
       "2        RL   Pave   NaN       Reg          Lvl    AllPub     Inside   \n",
       "\n",
       "  land_slope neighborhood condition_1 condition_2 bldg_type house_style  \\\n",
       "0        Gtl       Sawyer        RRAe        Norm      1Fam      2Story   \n",
       "1        Gtl      SawyerW        Norm        Norm      1Fam      2Story   \n",
       "2        Gtl        NAmes        Norm        Norm      1Fam      1Story   \n",
       "\n",
       "  roof_style roof_matl exterior_1st exterior_2nd mas_vnr_type exter_qual  \\\n",
       "0      Gable   CompShg      HdBoard      Plywood      BrkFace         Gd   \n",
       "1      Gable   CompShg      VinylSd      VinylSd      BrkFace         Gd   \n",
       "2      Gable   CompShg      VinylSd      VinylSd         None         TA   \n",
       "\n",
       "  exter_cond foundation bsmt_qual bsmt_cond bsmt_exposure bsmtfin_type_1  \\\n",
       "0         TA     CBlock        TA        TA            No            GLQ   \n",
       "1         TA      PConc        Gd        TA            No            GLQ   \n",
       "2         Gd     CBlock        TA        TA            No            GLQ   \n",
       "\n",
       "  bsmtfin_type_2 heating heating_qc central_air electrical kitchen_qual  \\\n",
       "0            Unf    GasA         Ex           Y      SBrkr           Gd   \n",
       "1            Unf    GasA         Ex           Y      SBrkr           Gd   \n",
       "2            Unf    GasA         TA           Y      SBrkr           Gd   \n",
       "\n",
       "  functional fireplace_qu garage_type garage_finish garage_qual garage_cond  \\\n",
       "0        Typ          NaN      Attchd           RFn          TA          TA   \n",
       "1        Typ           TA      Attchd           RFn          TA          TA   \n",
       "2        Typ          NaN      Detchd           Unf          TA          TA   \n",
       "\n",
       "  paved_drive pool_qc fence misc_feature sale_type  \n",
       "0           Y     NaN   NaN          NaN       WD   \n",
       "1           Y     NaN   NaN          NaN       WD   \n",
       "2           Y     NaN   NaN          NaN       WD   "
      ]
     },
     "execution_count": 10,
     "metadata": {},
     "output_type": "execute_result"
    }
   ],
   "source": [
    "df_house.select_dtypes(include=[np.object_]).head(3)"
   ]
  },
  {
   "cell_type": "code",
   "execution_count": 11,
   "id": "ecddbe69-fede-456f-bdc2-ce1f7618ab7b",
   "metadata": {
    "tags": []
   },
   "outputs": [],
   "source": [
    "df_cat = df_house[['id', \n",
    "                   'utilities', \n",
    "                   'neighborhood', \n",
    "                   'bldg_type', \n",
    "                   'house_style', \n",
    "                   'roof_style', \n",
    "                   'mas_vnr_type', \n",
    "                   'exter_qual', \n",
    "                   'exter_cond', \n",
    "                   'foundation', \n",
    "                   'bsmt_qual', \n",
    "                   'bsmt_cond', \n",
    "                   'kitchen_qual', \n",
    "                   'functional', \n",
    "                   'garage_type', \n",
    "                   'garage_finish', \n",
    "                   'garage_qual', \n",
    "                   'garage_cond', \n",
    "                   'paved_drive', \n",
    "                   'alley',\n",
    "                   'fireplace_qu',\n",
    "                   'pool_qc',\n",
    "                   'fence',\n",
    "                   'misc_feature'\n",
    "                   ]]"
   ]
  },
  {
   "cell_type": "code",
   "execution_count": 12,
   "id": "21a1c46f-b934-459c-addf-65a1afdd43e8",
   "metadata": {},
   "outputs": [
    {
     "data": {
      "text/html": [
       "<div>\n",
       "<style scoped>\n",
       "    .dataframe tbody tr th:only-of-type {\n",
       "        vertical-align: middle;\n",
       "    }\n",
       "\n",
       "    .dataframe tbody tr th {\n",
       "        vertical-align: top;\n",
       "    }\n",
       "\n",
       "    .dataframe thead th {\n",
       "        text-align: right;\n",
       "    }\n",
       "</style>\n",
       "<table border=\"1\" class=\"dataframe\">\n",
       "  <thead>\n",
       "    <tr style=\"text-align: right;\">\n",
       "      <th></th>\n",
       "      <th>id</th>\n",
       "      <th>utilities</th>\n",
       "      <th>neighborhood</th>\n",
       "      <th>bldg_type</th>\n",
       "      <th>house_style</th>\n",
       "      <th>roof_style</th>\n",
       "      <th>mas_vnr_type</th>\n",
       "      <th>exter_qual</th>\n",
       "      <th>exter_cond</th>\n",
       "      <th>foundation</th>\n",
       "      <th>bsmt_qual</th>\n",
       "      <th>bsmt_cond</th>\n",
       "      <th>kitchen_qual</th>\n",
       "      <th>functional</th>\n",
       "      <th>garage_type</th>\n",
       "      <th>garage_finish</th>\n",
       "      <th>garage_qual</th>\n",
       "      <th>garage_cond</th>\n",
       "      <th>paved_drive</th>\n",
       "      <th>alley</th>\n",
       "      <th>fireplace_qu</th>\n",
       "      <th>pool_qc</th>\n",
       "      <th>fence</th>\n",
       "      <th>misc_feature</th>\n",
       "    </tr>\n",
       "  </thead>\n",
       "  <tbody>\n",
       "    <tr>\n",
       "      <th>0</th>\n",
       "      <td>109</td>\n",
       "      <td>AllPub</td>\n",
       "      <td>Sawyer</td>\n",
       "      <td>1Fam</td>\n",
       "      <td>2Story</td>\n",
       "      <td>Gable</td>\n",
       "      <td>BrkFace</td>\n",
       "      <td>Gd</td>\n",
       "      <td>TA</td>\n",
       "      <td>CBlock</td>\n",
       "      <td>TA</td>\n",
       "      <td>TA</td>\n",
       "      <td>Gd</td>\n",
       "      <td>Typ</td>\n",
       "      <td>Attchd</td>\n",
       "      <td>RFn</td>\n",
       "      <td>TA</td>\n",
       "      <td>TA</td>\n",
       "      <td>Y</td>\n",
       "      <td>NaN</td>\n",
       "      <td>NaN</td>\n",
       "      <td>NaN</td>\n",
       "      <td>NaN</td>\n",
       "      <td>NaN</td>\n",
       "    </tr>\n",
       "    <tr>\n",
       "      <th>1</th>\n",
       "      <td>544</td>\n",
       "      <td>AllPub</td>\n",
       "      <td>SawyerW</td>\n",
       "      <td>1Fam</td>\n",
       "      <td>2Story</td>\n",
       "      <td>Gable</td>\n",
       "      <td>BrkFace</td>\n",
       "      <td>Gd</td>\n",
       "      <td>TA</td>\n",
       "      <td>PConc</td>\n",
       "      <td>Gd</td>\n",
       "      <td>TA</td>\n",
       "      <td>Gd</td>\n",
       "      <td>Typ</td>\n",
       "      <td>Attchd</td>\n",
       "      <td>RFn</td>\n",
       "      <td>TA</td>\n",
       "      <td>TA</td>\n",
       "      <td>Y</td>\n",
       "      <td>NaN</td>\n",
       "      <td>TA</td>\n",
       "      <td>NaN</td>\n",
       "      <td>NaN</td>\n",
       "      <td>NaN</td>\n",
       "    </tr>\n",
       "    <tr>\n",
       "      <th>2</th>\n",
       "      <td>153</td>\n",
       "      <td>AllPub</td>\n",
       "      <td>NAmes</td>\n",
       "      <td>1Fam</td>\n",
       "      <td>1Story</td>\n",
       "      <td>Gable</td>\n",
       "      <td>None</td>\n",
       "      <td>TA</td>\n",
       "      <td>Gd</td>\n",
       "      <td>CBlock</td>\n",
       "      <td>TA</td>\n",
       "      <td>TA</td>\n",
       "      <td>Gd</td>\n",
       "      <td>Typ</td>\n",
       "      <td>Detchd</td>\n",
       "      <td>Unf</td>\n",
       "      <td>TA</td>\n",
       "      <td>TA</td>\n",
       "      <td>Y</td>\n",
       "      <td>NaN</td>\n",
       "      <td>NaN</td>\n",
       "      <td>NaN</td>\n",
       "      <td>NaN</td>\n",
       "      <td>NaN</td>\n",
       "    </tr>\n",
       "  </tbody>\n",
       "</table>\n",
       "</div>"
      ],
      "text/plain": [
       "    id utilities neighborhood bldg_type house_style roof_style mas_vnr_type  \\\n",
       "0  109    AllPub       Sawyer      1Fam      2Story      Gable      BrkFace   \n",
       "1  544    AllPub      SawyerW      1Fam      2Story      Gable      BrkFace   \n",
       "2  153    AllPub        NAmes      1Fam      1Story      Gable         None   \n",
       "\n",
       "  exter_qual exter_cond foundation bsmt_qual bsmt_cond kitchen_qual  \\\n",
       "0         Gd         TA     CBlock        TA        TA           Gd   \n",
       "1         Gd         TA      PConc        Gd        TA           Gd   \n",
       "2         TA         Gd     CBlock        TA        TA           Gd   \n",
       "\n",
       "  functional garage_type garage_finish garage_qual garage_cond paved_drive  \\\n",
       "0        Typ      Attchd           RFn          TA          TA           Y   \n",
       "1        Typ      Attchd           RFn          TA          TA           Y   \n",
       "2        Typ      Detchd           Unf          TA          TA           Y   \n",
       "\n",
       "  alley fireplace_qu pool_qc fence misc_feature  \n",
       "0   NaN          NaN     NaN   NaN          NaN  \n",
       "1   NaN           TA     NaN   NaN          NaN  \n",
       "2   NaN          NaN     NaN   NaN          NaN  "
      ]
     },
     "execution_count": 12,
     "metadata": {},
     "output_type": "execute_result"
    }
   ],
   "source": [
    "df_cat.head(3)"
   ]
  },
  {
   "cell_type": "code",
   "execution_count": 13,
   "id": "75b0c90d-1195-4d28-b7b5-fc194cd18780",
   "metadata": {},
   "outputs": [],
   "source": [
    "df_combined = pd.merge(left = df_nums, right = df_cat, how = 'inner')"
   ]
  },
  {
   "cell_type": "code",
   "execution_count": 14,
   "id": "e1d9467d-7c6a-4ee9-bce4-19a546e80afa",
   "metadata": {
    "ExecuteTime": {
     "end_time": "2021-05-04T15:17:32.466529Z",
     "start_time": "2021-05-04T15:17:32.446642Z"
    }
   },
   "outputs": [],
   "source": [
    "X = df_combined.drop(columns=['id', 'saleprice'])\n",
    "y = df_combined['saleprice']\n",
    "\n",
    "X_train, X_val, y_train, y_val = train_test_split(X, y, random_state=42)"
   ]
  },
  {
   "cell_type": "code",
   "execution_count": 15,
   "id": "a65faee3-1841-4e22-b0ce-523b99d17116",
   "metadata": {},
   "outputs": [],
   "source": [
    "ohe = OneHotEncoder(handle_unknown='ignore')\n",
    "smart_encoder = make_column_transformer((ohe, ['overall_qual',   # Again here, I had to manually input these \n",
    "                                               'utilities', \n",
    "                                               'neighborhood', \n",
    "                                               'bldg_type', \n",
    "                                               'house_style', \n",
    "                                               'roof_style', \n",
    "                                               'mas_vnr_type', \n",
    "                                               'exter_qual', \n",
    "                                               'exter_cond', \n",
    "                                               'foundation', \n",
    "                                               'bsmt_qual', \n",
    "                                               'bsmt_cond', \n",
    "                                               'kitchen_qual', \n",
    "                                               'functional', \n",
    "                                               'garage_type', \n",
    "                                               'garage_finish', \n",
    "                                               'garage_qual', \n",
    "                                               'garage_cond', \n",
    "                                               'paved_drive',\n",
    "                                               'alley',\n",
    "                                               'fireplace_qu',\n",
    "                                               'pool_qc',\n",
    "                                               'fence',\n",
    "                                               'misc_feature']),\n",
    "                                        remainder='passthrough',\n",
    "                                        verbose_feature_names_out=False)\n",
    "\n",
    "X_train_enc = smart_encoder.fit_transform(X_train)\n",
    "X_val_enc = smart_encoder.transform(X_val)"
   ]
  },
  {
   "cell_type": "code",
   "execution_count": 16,
   "id": "09c77209-5386-4392-977c-1b871be17804",
   "metadata": {},
   "outputs": [],
   "source": [
    "X_train_enc = pd.DataFrame(X_train_enc, columns = smart_encoder.get_feature_names_out())\n",
    "X_val_enc = pd.DataFrame(X_val_enc, columns = smart_encoder.get_feature_names_out())"
   ]
  },
  {
   "cell_type": "code",
   "execution_count": 17,
   "id": "12d06620-08c7-4d18-8729-3edbe041b4dd",
   "metadata": {
    "tags": []
   },
   "outputs": [],
   "source": [
    "si = SimpleImputer(strategy = 'constant', fill_value=0)\n",
    "\n",
    "X_train_fill = si.fit_transform(X_train_enc)\n",
    "X_val_fill = si.transform(X_val_enc)"
   ]
  },
  {
   "cell_type": "code",
   "execution_count": 18,
   "id": "00d73d4a-70a8-4544-abab-06c19ca15281",
   "metadata": {},
   "outputs": [],
   "source": [
    "X_train_fill = pd.DataFrame(X_train_fill, columns = si.feature_names_in_)\n",
    "X_val_fill = pd.DataFrame(X_val_fill, columns = si.feature_names_in_)"
   ]
  },
  {
   "cell_type": "code",
   "execution_count": 19,
   "id": "66bd71a2-993a-42aa-b22e-7c75181871bf",
   "metadata": {
    "tags": []
   },
   "outputs": [],
   "source": [
    "ss = StandardScaler()\n",
    "X_train_sc = ss.fit_transform(X_train_fill)\n",
    "X_val_sc = ss.transform(X_val_fill)\n",
    "\n",
    "X_train_sc = pd.DataFrame(X_train_sc, columns = ss.get_feature_names_out())\n",
    "X_val_sc = pd.DataFrame(X_val_sc, columns = ss.get_feature_names_out())"
   ]
  },
  {
   "cell_type": "code",
   "execution_count": 20,
   "id": "c239569a-bca9-460d-8640-70cfe69ad8e2",
   "metadata": {
    "ExecuteTime": {
     "end_time": "2021-05-04T15:32:11.760496Z",
     "start_time": "2021-05-04T15:32:11.419722Z"
    },
    "code_folding": [],
    "scrolled": true,
    "tags": []
   },
   "outputs": [
    {
     "name": "stdout",
     "output_type": "stream",
     "text": [
      "best alpha: 567.9607901002692\n",
      "score: 0.9279680118839857\n"
     ]
    }
   ],
   "source": [
    "lasso_cv = LassoCV(cv = 10).fit(X_train_sc, y_train) \n",
    "\n",
    "print('best alpha:', lasso_cv.alpha_)\n",
    "print('score:', lasso_cv.score(X_train_sc, y_train))"
   ]
  },
  {
   "cell_type": "code",
   "execution_count": 21,
   "id": "e1ab7346-c9e9-48e3-a5f6-ca457ec5b728",
   "metadata": {},
   "outputs": [
    {
     "data": {
      "text/plain": [
       "0.9344318425844886"
      ]
     },
     "execution_count": 21,
     "metadata": {},
     "output_type": "execute_result"
    }
   ],
   "source": [
    "lasso_cv.score(X_val_sc, y_val)"
   ]
  },
  {
   "cell_type": "code",
   "execution_count": 22,
   "id": "19712473-3d7e-43e2-ada0-7a5a4a092f4c",
   "metadata": {},
   "outputs": [],
   "source": [
    "tt = TransformedTargetRegressor(regressor = lasso_cv, func = np.log, inverse_func = np.exp)"
   ]
  },
  {
   "cell_type": "code",
   "execution_count": 23,
   "id": "99086c6c-d633-41c2-9497-d9135afdb039",
   "metadata": {},
   "outputs": [
    {
     "data": {
      "text/plain": [
       "TransformedTargetRegressor(func=<ufunc 'log'>, inverse_func=<ufunc 'exp'>,\n",
       "                           regressor=LassoCV(cv=10))"
      ]
     },
     "execution_count": 23,
     "metadata": {},
     "output_type": "execute_result"
    }
   ],
   "source": [
    "tt.fit(X_train_sc, y_train)"
   ]
  },
  {
   "cell_type": "code",
   "execution_count": 24,
   "id": "231a878d-258c-4f6b-9b19-62a5712045f5",
   "metadata": {},
   "outputs": [
    {
     "data": {
      "text/plain": [
       "0.9424373847158217"
      ]
     },
     "execution_count": 24,
     "metadata": {},
     "output_type": "execute_result"
    }
   ],
   "source": [
    "tt.score(X_train_sc, y_train)"
   ]
  },
  {
   "cell_type": "code",
   "execution_count": 25,
   "id": "5778458b-56ef-4000-b473-94046a1e0f16",
   "metadata": {},
   "outputs": [
    {
     "data": {
      "text/plain": [
       "0.9376050739263987"
      ]
     },
     "execution_count": 25,
     "metadata": {},
     "output_type": "execute_result"
    }
   ],
   "source": [
    "tt.score(X_val_sc, y_val)"
   ]
  },
  {
   "cell_type": "code",
   "execution_count": 26,
   "id": "d1999942-0876-4713-9708-47b121d8ed2e",
   "metadata": {},
   "outputs": [],
   "source": [
    "y_train_preds = tt.predict(X_train_sc)"
   ]
  },
  {
   "cell_type": "code",
   "execution_count": 27,
   "id": "72938dfe-19d2-4e22-930b-334577a9a162",
   "metadata": {},
   "outputs": [
    {
     "data": {
      "text/plain": [
       "361050075.80118006"
      ]
     },
     "execution_count": 27,
     "metadata": {},
     "output_type": "execute_result"
    }
   ],
   "source": [
    "mean_squared_error(y_train, y_train_preds)"
   ]
  },
  {
   "cell_type": "code",
   "execution_count": 28,
   "id": "78564a2a-2e9c-43d3-a557-abb0541754f1",
   "metadata": {},
   "outputs": [
    {
     "data": {
      "text/plain": [
       "19001.317738545928"
      ]
     },
     "execution_count": 28,
     "metadata": {},
     "output_type": "execute_result"
    }
   ],
   "source": [
    "(mean_squared_error(y_train, y_train_preds))**0.5"
   ]
  },
  {
   "cell_type": "code",
   "execution_count": 29,
   "id": "ff61e4fb-cc73-4f11-9024-007afe60d7ff",
   "metadata": {},
   "outputs": [
    {
     "data": {
      "text/plain": [
       "394467870.71098816"
      ]
     },
     "execution_count": 29,
     "metadata": {},
     "output_type": "execute_result"
    }
   ],
   "source": [
    "y_val_preds = tt.predict(X_val_sc)\n",
    "mean_squared_error(y_val, y_val_preds)"
   ]
  },
  {
   "cell_type": "code",
   "execution_count": 30,
   "id": "0c8d1d2b-f390-4041-9732-27298404adc7",
   "metadata": {},
   "outputs": [
    {
     "data": {
      "text/plain": [
       "19861.21523751727"
      ]
     },
     "execution_count": 30,
     "metadata": {},
     "output_type": "execute_result"
    }
   ],
   "source": [
    "(mean_squared_error(y_val, y_val_preds))**0.5"
   ]
  },
  {
   "cell_type": "code",
   "execution_count": 31,
   "id": "fe1763d2-bd54-47ed-95a8-025a6e01081a",
   "metadata": {},
   "outputs": [],
   "source": [
    "y_train_look = list(zip(y_train, y_train_preds))"
   ]
  },
  {
   "cell_type": "code",
   "execution_count": 32,
   "id": "1e671a02-4f5b-4fd6-9a6f-4c8a0fe3562b",
   "metadata": {},
   "outputs": [],
   "source": [
    "y_val_look = list(zip(y_val, y_val_preds))"
   ]
  },
  {
   "cell_type": "code",
   "execution_count": 33,
   "id": "0866d2df-75ec-453a-b4c2-eb92eb8f0a6b",
   "metadata": {},
   "outputs": [
    {
     "data": {
      "text/plain": [
       "(12902.615440200454, 13425.913183469822)"
      ]
     },
     "execution_count": 33,
     "metadata": {},
     "output_type": "execute_result"
    }
   ],
   "source": [
    "mean_absolute_error(y_train, y_train_preds), mean_absolute_error(y_val, y_val_preds)"
   ]
  },
  {
   "cell_type": "markdown",
   "id": "9d4e4490-85a7-4ee1-a53f-bbbb1f0b826a",
   "metadata": {},
   "source": [
    "---\n",
    "\n",
    "**ASSUMPTIONS CHECK AND VISUALIZATIONS:**\n",
    "\n",
    "<a id='#ASSUMPTIONS_CHECK_AND_VISUALIZATIONS'></a> \n",
    "\n",
    "Within the same section, I will explore my assumptions and produce some visualizations to help relay my recommendations. I will walk through each assumption and include why I believe they have each been met. "
   ]
  },
  {
   "cell_type": "code",
   "execution_count": 39,
   "id": "aaf7b7bb-f698-4f18-9e04-4da8ef26f04c",
   "metadata": {},
   "outputs": [],
   "source": [
    "residuals = y_train - y_train_preds"
   ]
  },
  {
   "cell_type": "code",
   "execution_count": 40,
   "id": "7b1428c3-9880-4b80-92d7-41f6ae2e0f6b",
   "metadata": {},
   "outputs": [
    {
     "data": {
      "text/plain": [
       "415     -7920.833340\n",
       "273     -9090.913201\n",
       "1146   -29893.853708\n",
       "250     -2298.933127\n",
       "413       233.013119\n",
       "            ...     \n",
       "1724    -6259.284831\n",
       "1095    -6019.165313\n",
       "1130   -10846.929276\n",
       "1294     1251.191150\n",
       "860     14668.486316\n",
       "Name: saleprice, Length: 1536, dtype: float64"
      ]
     },
     "execution_count": 40,
     "metadata": {},
     "output_type": "execute_result"
    }
   ],
   "source": [
    "residuals"
   ]
  },
  {
   "cell_type": "code",
   "execution_count": 45,
   "id": "9d6fb582-bb56-4268-8802-a5d9ea7b4a52",
   "metadata": {},
   "outputs": [
    {
     "data": {
      "image/png": "[encoded data removed]",
      "text/plain": [
       "<Figure size 576x396 with 1 Axes>"
      ]
     },
     "metadata": {},
     "output_type": "display_data"
    }
   ],
   "source": [
    "from yellowbrick.datasets import load_concrete\n",
    "from yellowbrick.regressor import prediction_error\n",
    "\n",
    "visualizer = prediction_error(tt, X_train_sc, y_train, X_val_sc, y_val);"
   ]
  },
  {
   "cell_type": "markdown",
   "id": "38f0218e-7dd1-4357-ad68-fff668a0d1db",
   "metadata": {},
   "source": [
    "Looking at this residuals plot, we can see the assumption of linearity has been met. The plotted values line up well along the best fit line. There are a couple odd data points, but no significant outliers.\n",
    "\n",
    "The next assumption can be explained verbally instead of visually. The dataset has independence. It is not time series data and one home sale does not depend on another home sale necessarily. Not all those who sell a home then go buy a home, even though maybe most do. "
   ]
  },
  {
   "cell_type": "code",
   "execution_count": 42,
   "id": "86de078e-5fd3-4541-9025-bc9d5788d0d0",
   "metadata": {},
   "outputs": [
    {
     "data": {
      "image/png": "[encoded data removed]",
      "text/plain": [
       "<Figure size 576x396 with 2 Axes>"
      ]
     },
     "metadata": {},
     "output_type": "display_data"
    }
   ],
   "source": [
    "from yellowbrick.datasets import load_concrete\n",
    "from yellowbrick.regressor import ResidualsPlot\n",
    "\n",
    "visualizer = ResidualsPlot(tt)\n",
    "\n",
    "visualizer.fit(X_train_sc, y_train)  \n",
    "visualizer.score(X_val_sc, y_val)  \n",
    "visualizer.show()  ;\n",
    "\n",
    "# https://www.scikit-yb.org/en/latest/api/regressor/residuals.html"
   ]
  },
  {
   "cell_type": "markdown",
   "id": "befba263-5e9c-4882-8800-c089e6595426",
   "metadata": {},
   "source": [
    "This beautiful residuals plot shows our next two assumptions. \n",
    "\n",
    "As we can see from the distribution on the right, the residuals have a normal distribution. \n",
    "\n",
    "The hardest assumption to meet is equal variances. While the plot of my residuals is definitely not perfectly scattered and has a slight horn shape, I believe the assumption is met because it is a very wide horn shape. Further, considering all other metrics score well and assumptions are met, I can find this plot acceptable."
   ]
  },
  {
   "cell_type": "code",
   "execution_count": 439,
   "id": "e214ddeb-0f72-48d1-a831-dd9e180cdd27",
   "metadata": {},
   "outputs": [
    {
     "data": {
      "image/png": "[encoded data removed]",
      "text/plain": [
       "<Figure size 720x720 with 2 Axes>"
      ]
     },
     "metadata": {
      "needs_background": "light"
     },
     "output_type": "display_data"
    }
   ],
   "source": [
    "plt.figure(figsize=(10,10))   \n",
    "sns.heatmap(df_house.corr(), cmap='viridis');"
   ]
  },
  {
   "cell_type": "markdown",
   "id": "e63d8428-463d-4cd0-8e7e-64db3ec0e8ce",
   "metadata": {},
   "source": [
    "Finally, we have multicolinearity. For reference, I included here the heatmap from the first notebook exploring the relationships between our numeric values. As we can see, there are some multicolinear relationships here, albeit I would argue majority are in the none-mild correlation category. To correct for this, I ran the model through a LassoCV regularization which accounts for many features that may have some multicolinearity. Therefore, I can say this assumption is met."
   ]
  },
  {
   "cell_type": "markdown",
   "id": "c97ac0e8-a80f-4753-ae10-2306a451f293",
   "metadata": {},
   "source": [
    "---\n",
    "\n",
    "**COEFFICIENTS AND IMPORTANT FEATURES:**"
   ]
  },
  {
   "cell_type": "markdown",
   "id": "8ec44c1b-45f8-4fc3-9f12-2f878c0be14b",
   "metadata": {},
   "source": [
    "Considering my problem, I wanted to maintain as many features as possible while still churning out an effective model. Therefore, I have 185 coefficients to match my 185 features. This means that making inferences about them would be quite difficult. To make this process smoother, I will analyze them within 3 categories: the top group of positive coefficients, all those that equal 0 (AKA non-influential features), and the worst of the worst coefficients. They are as follows:"
   ]
  },
  {
   "cell_type": "code",
   "execution_count": 34,
   "id": "1c4ed7b6-d636-40fc-ba57-d3902d146f8e",
   "metadata": {},
   "outputs": [],
   "source": [
    "col_coefs = lasso_cv.coef_"
   ]
  },
  {
   "cell_type": "code",
   "execution_count": 35,
   "id": "4fcd6f24-246d-4590-b1ae-f3433b2ea9cb",
   "metadata": {},
   "outputs": [],
   "source": [
    "zipped = list(zip(X_train_sc.columns, col_coefs))"
   ]
  },
  {
   "cell_type": "code",
   "execution_count": null,
   "id": "2fe53663-82a9-4d84-b5ae-60c33ab6fe8f",
   "metadata": {},
   "outputs": [],
   "source": [
    "zipped # run this cell to view list "
   ]
  },
  {
   "cell_type": "code",
   "execution_count": null,
   "id": "a02556e3-c3c4-4527-b0d3-f3016aadc469",
   "metadata": {
    "tags": []
   },
   "outputs": [],
   "source": [
    "[col for col,coef in zipped if coef > 3000] # run this cell to view list "
   ]
  },
  {
   "cell_type": "markdown",
   "id": "85488ab5-f0b3-48a6-81b9-ce45195f1f55",
   "metadata": {},
   "source": [
    "As I look at my best features, I must say that I am not much surprised. All of these features logically make sense to me, which is great as it tells me my model works with real-life situations. Here are some examples of interpretations of these high positive coefficients: \n",
    "* Holding all else constant, as lot area and above ground living area increase separately by one square foot, the home sale price could increase by $\\$5,488$ and $\\$25,660$, respectively. This number for the square feet of living area surprises me greatly, especially because I even removed the major outliers from the data. \n",
    "\n",
    "* As the year built 'increases' or gets closer to the current year, the predicted sale price increases by $\\$11,886$. In other words, newer houses cost more than older houses. \n",
    "\n",
    "* Compared to other neighborhoods in Ames, Northridge Heights and Stone Brook are the best predictors of increasing sale price with coefficients of $\\$3,123$ and $\\$4,407$, respectively.\n",
    "\n",
    "* Holding all else constant, as the square footage of a screen porch increases by one square foot, the price of the home could increase by $\\$3,148$.\n",
    "\n",
    "* Homes with excellent quality of almost anything - exterior, basement, kitchen, and overall - have higher sale prices compared to homes that have numbers less than excellent (for overall, 9-10 are designated as excellent). \n",
    "\n",
    "* As the overall quality of the home increases by 1 unit of quality, the price could increase by thousands of dollars holding all else constant. The best predictor within overall quality is a quality level of 9. Holding all else constant, houses with a quality level of 9, could have a prise increase by $\\$9,717$ (these quality units are undefined both in the data description and in the paper the professor wrote about the data ([*Paper*](http://jse.amstat.org/v19n3/decock.pdf), [*Description*](http://jse.amstat.org/v19n3/decock/DataDocumentation.txt)))."
   ]
  },
  {
   "cell_type": "code",
   "execution_count": null,
   "id": "6d739530-99b7-4bb7-b15c-513b9d7a5d5d",
   "metadata": {
    "tags": []
   },
   "outputs": [],
   "source": [
    "[col for col,coef in zipped if coef == 0] # run this cell to view list "
   ]
  },
  {
   "cell_type": "markdown",
   "id": "a595522f-2a40-4c5a-8735-fb0cb575cf79",
   "metadata": {},
   "source": [
    "For this category (coefficient equals zero), there are a very surprising amount of features. There are so many that I tried to remove these features from my model and run it again, but it didn't change anything (I'm assuming because LassoCV already penalizes them to zero making them irrelevant anyways). Here are some examples of interpretations of these coefficients: \n",
    "\n",
    "* Holding all else constant, the quality of fireplaces, garages, or basements make no change on home sale price. Further, it doesn't matter if the house has access to an alley - there is no predicted change in house sale price. \n",
    "\n",
    "* Out of 28 neighborhoods, homes in 16 of them have no better or worse sale price than other neighborhoods. \n",
    "\n",
    "* If the home has a pool, for every square foot in size that it increases, the home sale price will not change. This means that if a house has a pool, it does not matter what size it is in terms of sale price. \n",
    "\n",
    "* For each month in the year, there are no significant changes in sale price from one to the other, holding all else constant. This means that the physical features of the home may be more influential for sale price than the time of year it is sold."
   ]
  },
  {
   "cell_type": "code",
   "execution_count": null,
   "id": "2917c56b-4170-47ac-b9ce-82f47933b574",
   "metadata": {
    "tags": []
   },
   "outputs": [],
   "source": [
    "[col for col,coef in zipped if coef < -1000] # run this cell to view list "
   ]
  },
  {
   "attachments": {
    "d2889e1e-5476-4c05-80a5-125e9f9ae53b.png": {
     "image/png": "[encoded data removed]"
    }
   },
   "cell_type": "markdown",
   "id": "2f63b7cf-da1b-42da-9a2f-6c5f1e82993b",
   "metadata": {},
   "source": [
    "There are less negative coefficients than positive coefficients, but some of them are more surprising than others. Here are some interpretations: \n",
    "\n",
    "* A foundation of cinderblock compared to other foundation types can decrease home sale price by $\\$1,467$ holding all else constant.\n",
    "\n",
    "* A roof style of Mansard compared to other roof types can decrease home sale price by $\\$1,435$ holding all else constant. For reference, this is what a Mansard roof looks like, which - for the record - is not surprising that it decreases home price in my opinion. \n",
    "\n",
    "![image.png](attachment:d2889e1e-5476-4c05-80a5-125e9f9ae53b.png)\n",
    "\n",
    "[*Source*](https://www.google.com/url?sa=i&url=https%3A%2F%2Fwww.houzz.com%2Fdiscussions%2F4655340%2Flooking-to-update-mansard-roof-home&psig=AOvVaw16IwFA9s1dOwYwBxodrOUj&ust=1650329707724000&source=images&cd=vfe&ved=0CAwQjRxqFwoTCLCC9baznPcCFQAAAAAdAAAAABAD)\n",
    "\n",
    "* As the number of bedrooms and kitchens in the home increases, the predicted sale price can fall. This one is confusing for me, as I would assume that houses with more bedrooms would be therefore larger and then therefore cost more. However, I theorize that this increase in kitchens and bedrooms may signify a housing type different than single family (which has a positive coefficient) - maybe the home is a duplex, townhome, or multi-family home (which have non-influential and negative coefficients).\n",
    "\n",
    "---\n",
    "\n",
    "**MORE VISUALIZATIONS:**\n",
    "\n",
    "In this section, I will create visualizations for the coefficients to portray the best and worst features in my model."
   ]
  },
  {
   "cell_type": "code",
   "execution_count": 187,
   "id": "adcc718f-ea85-44f0-b8a5-370260963d89",
   "metadata": {
    "tags": []
   },
   "outputs": [
    {
     "data": {
      "image/png": "[encoded data removed]",
      "text/plain": [
       "<Figure size 576x396 with 1 Axes>"
      ]
     },
     "metadata": {},
     "output_type": "display_data"
    }
   ],
   "source": [
    "from yellowbrick.model_selection import FeatureImportances\n",
    "\n",
    "viz = FeatureImportances(lasso_cv, relative=False, topn=17, colormap='sns_dark')\n",
    "viz.fit(X_train_sc, y_train)\n",
    "viz.show('feature_importance.jpg');"
   ]
  },
  {
   "cell_type": "code",
   "execution_count": 134,
   "id": "d3f3c7a1-c0ce-44c1-a842-22f5e5281ffe",
   "metadata": {},
   "outputs": [],
   "source": [
    "lows = [col for col,coef in zipped if coef < -1000]"
   ]
  },
  {
   "cell_type": "code",
   "execution_count": 167,
   "id": "c35331c0-079d-4072-a1fb-ce1854cfea38",
   "metadata": {},
   "outputs": [],
   "source": [
    "lows_c = [round(coef,2) for col,coef in zipped if coef < -1000]"
   ]
  },
  {
   "cell_type": "code",
   "execution_count": 168,
   "id": "96e4b822-b562-44fa-be04-c978d624b767",
   "metadata": {},
   "outputs": [
    {
     "data": {
      "text/plain": [
       "[('roof_style_Mansard', -1435.07),\n",
       " ('exter_qual_TA', -2357.28),\n",
       " ('foundation_CBlock', -1467.36),\n",
       " ('kitchen_qual_TA', -1312.13),\n",
       " ('functional_Maj1', -1869.41),\n",
       " ('functional_Sal', -1022.75),\n",
       " ('bedroom_abvgr', -2122.17),\n",
       " ('kitchen_abvgr', -1240.14)]"
      ]
     },
     "execution_count": 168,
     "metadata": {},
     "output_type": "execute_result"
    }
   ],
   "source": [
    "list(zip(lows, lows_c))"
   ]
  },
  {
   "cell_type": "code",
   "execution_count": 159,
   "id": "31ec6fde-109b-45ed-8ea2-71964ca4884f",
   "metadata": {},
   "outputs": [],
   "source": [
    "df_lows = pd.DataFrame(lows_c, lows, columns = ['coef'])"
   ]
  },
  {
   "cell_type": "code",
   "execution_count": 172,
   "id": "193905e6-db4e-4ac7-a453-44f6ee3604e1",
   "metadata": {},
   "outputs": [],
   "source": [
    "df_lows['coef'] = df_lows['coef'].sort_values(ascending=True)"
   ]
  },
  {
   "cell_type": "code",
   "execution_count": 173,
   "id": "7704633b-554c-491c-9cf5-7454d05a4e93",
   "metadata": {},
   "outputs": [
    {
     "data": {
      "text/html": [
       "<div>\n",
       "<style scoped>\n",
       "    .dataframe tbody tr th:only-of-type {\n",
       "        vertical-align: middle;\n",
       "    }\n",
       "\n",
       "    .dataframe tbody tr th {\n",
       "        vertical-align: top;\n",
       "    }\n",
       "\n",
       "    .dataframe thead th {\n",
       "        text-align: right;\n",
       "    }\n",
       "</style>\n",
       "<table border=\"1\" class=\"dataframe\">\n",
       "  <thead>\n",
       "    <tr style=\"text-align: right;\">\n",
       "      <th></th>\n",
       "      <th>coef</th>\n",
       "    </tr>\n",
       "  </thead>\n",
       "  <tbody>\n",
       "    <tr>\n",
       "      <th>roof_style_Mansard</th>\n",
       "      <td>-1435.07</td>\n",
       "    </tr>\n",
       "    <tr>\n",
       "      <th>exter_qual_TA</th>\n",
       "      <td>-2357.28</td>\n",
       "    </tr>\n",
       "    <tr>\n",
       "      <th>foundation_CBlock</th>\n",
       "      <td>-1467.36</td>\n",
       "    </tr>\n",
       "    <tr>\n",
       "      <th>kitchen_qual_TA</th>\n",
       "      <td>-1312.13</td>\n",
       "    </tr>\n",
       "    <tr>\n",
       "      <th>functional_Maj1</th>\n",
       "      <td>-1869.41</td>\n",
       "    </tr>\n",
       "    <tr>\n",
       "      <th>functional_Sal</th>\n",
       "      <td>-1022.75</td>\n",
       "    </tr>\n",
       "    <tr>\n",
       "      <th>bedroom_abvgr</th>\n",
       "      <td>-2122.17</td>\n",
       "    </tr>\n",
       "    <tr>\n",
       "      <th>kitchen_abvgr</th>\n",
       "      <td>-1240.14</td>\n",
       "    </tr>\n",
       "  </tbody>\n",
       "</table>\n",
       "</div>"
      ],
      "text/plain": [
       "                       coef\n",
       "roof_style_Mansard -1435.07\n",
       "exter_qual_TA      -2357.28\n",
       "foundation_CBlock  -1467.36\n",
       "kitchen_qual_TA    -1312.13\n",
       "functional_Maj1    -1869.41\n",
       "functional_Sal     -1022.75\n",
       "bedroom_abvgr      -2122.17\n",
       "kitchen_abvgr      -1240.14"
      ]
     },
     "execution_count": 173,
     "metadata": {},
     "output_type": "execute_result"
    }
   ],
   "source": [
    "df_lows"
   ]
  },
  {
   "cell_type": "code",
   "execution_count": 186,
   "id": "20313d10-c5e8-4d14-82c9-8c93d3bf8c58",
   "metadata": {},
   "outputs": [
    {
     "data": {
      "application/vnd.plotly.v1+json": {
       "config": {
        "plotlyServerURL": "https://plot.ly"
       },
       "data": [
        {
         "cells": {
          "align": "left",
          "fill": {
           "color": "lightblue"
          },
          "line": {
           "color": "darkslategray"
          },
          "values": [
           [
            "roof_style_Mansard",
            "exter_qual_TA",
            "foundation_CBlock",
            "kitchen_qual_TA",
            "functional_Maj1",
            "functional_Sal",
            "bedroom_abvgr",
            "kitchen_abvgr"
           ],
           [
            -1435.07,
            -2357.28,
            -1467.36,
            -1312.13,
            -1869.41,
            -1022.75,
            -2122.17,
            -1240.14
           ]
          ]
         },
         "header": {
          "align": "left",
          "fill": {
           "color": "cadetblue"
          },
          "line": {
           "color": "darkslategray"
          },
          "values": [
           "Feature",
           "Coefficient"
          ]
         },
         "type": "table"
        }
       ],
       "layout": {
        "height": 500,
        "template": {
         "data": {
          "bar": [
           {
            "error_x": {
             "color": "#2a3f5f"
            },
            "error_y": {
             "color": "#2a3f5f"
            },
            "marker": {
             "line": {
              "color": "#E5ECF6",
              "width": 0.5
             },
             "pattern": {
              "fillmode": "overlay",
              "size": 10,
              "solidity": 0.2
             }
            },
            "type": "bar"
           }
          ],
          "barpolar": [
           {
            "marker": {
             "line": {
              "color": "#E5ECF6",
              "width": 0.5
             },
             "pattern": {
              "fillmode": "overlay",
              "size": 10,
              "solidity": 0.2
             }
            },
            "type": "barpolar"
           }
          ],
          "carpet": [
           {
            "aaxis": {
             "endlinecolor": "#2a3f5f",
             "gridcolor": "white",
             "linecolor": "white",
             "minorgridcolor": "white",
             "startlinecolor": "#2a3f5f"
            },
            "baxis": {
             "endlinecolor": "#2a3f5f",
             "gridcolor": "white",
             "linecolor": "white",
             "minorgridcolor": "white",
             "startlinecolor": "#2a3f5f"
            },
            "type": "carpet"
           }
          ],
          "choropleth": [
           {
            "colorbar": {
             "outlinewidth": 0,
             "ticks": ""
            },
            "type": "choropleth"
           }
          ],
          "contour": [
           {
            "colorbar": {
             "outlinewidth": 0,
             "ticks": ""
            },
            "colorscale": [
             [
              0,
              "#0d0887"
             ],
             [
              0.1111111111111111,
              "#46039f"
             ],
             [
              0.2222222222222222,
              "#7201a8"
             ],
             [
              0.3333333333333333,
              "#9c179e"
             ],
             [
              0.4444444444444444,
              "#bd3786"
             ],
             [
              0.5555555555555556,
              "#d8576b"
             ],
             [
              0.6666666666666666,
              "#ed7953"
             ],
             [
              0.7777777777777778,
              "#fb9f3a"
             ],
             [
              0.8888888888888888,
              "#fdca26"
             ],
             [
              1,
              "#f0f921"
             ]
            ],
            "type": "contour"
           }
          ],
          "contourcarpet": [
           {
            "colorbar": {
             "outlinewidth": 0,
             "ticks": ""
            },
            "type": "contourcarpet"
           }
          ],
          "heatmap": [
           {
            "colorbar": {
             "outlinewidth": 0,
             "ticks": ""
            },
            "colorscale": [
             [
              0,
              "#0d0887"
             ],
             [
              0.1111111111111111,
              "#46039f"
             ],
             [
              0.2222222222222222,
              "#7201a8"
             ],
             [
              0.3333333333333333,
              "#9c179e"
             ],
             [
              0.4444444444444444,
              "#bd3786"
             ],
             [
              0.5555555555555556,
              "#d8576b"
             ],
             [
              0.6666666666666666,
              "#ed7953"
             ],
             [
              0.7777777777777778,
              "#fb9f3a"
             ],
             [
              0.8888888888888888,
              "#fdca26"
             ],
             [
              1,
              "#f0f921"
             ]
            ],
            "type": "heatmap"
           }
          ],
          "heatmapgl": [
           {
            "colorbar": {
             "outlinewidth": 0,
             "ticks": ""
            },
            "colorscale": [
             [
              0,
              "#0d0887"
             ],
             [
              0.1111111111111111,
              "#46039f"
             ],
             [
              0.2222222222222222,
              "#7201a8"
             ],
             [
              0.3333333333333333,
              "#9c179e"
             ],
             [
              0.4444444444444444,
              "#bd3786"
             ],
             [
              0.5555555555555556,
              "#d8576b"
             ],
             [
              0.6666666666666666,
              "#ed7953"
             ],
             [
              0.7777777777777778,
              "#fb9f3a"
             ],
             [
              0.8888888888888888,
              "#fdca26"
             ],
             [
              1,
              "#f0f921"
             ]
            ],
            "type": "heatmapgl"
           }
          ],
          "histogram": [
           {
            "marker": {
             "pattern": {
              "fillmode": "overlay",
              "size": 10,
              "solidity": 0.2
             }
            },
            "type": "histogram"
           }
          ],
          "histogram2d": [
           {
            "colorbar": {
             "outlinewidth": 0,
             "ticks": ""
            },
            "colorscale": [
             [
              0,
              "#0d0887"
             ],
             [
              0.1111111111111111,
              "#46039f"
             ],
             [
              0.2222222222222222,
              "#7201a8"
             ],
             [
              0.3333333333333333,
              "#9c179e"
             ],
             [
              0.4444444444444444,
              "#bd3786"
             ],
             [
              0.5555555555555556,
              "#d8576b"
             ],
             [
              0.6666666666666666,
              "#ed7953"
             ],
             [
              0.7777777777777778,
              "#fb9f3a"
             ],
             [
              0.8888888888888888,
              "#fdca26"
             ],
             [
              1,
              "#f0f921"
             ]
            ],
            "type": "histogram2d"
           }
          ],
          "histogram2dcontour": [
           {
            "colorbar": {
             "outlinewidth": 0,
             "ticks": ""
            },
            "colorscale": [
             [
              0,
              "#0d0887"
             ],
             [
              0.1111111111111111,
              "#46039f"
             ],
             [
              0.2222222222222222,
              "#7201a8"
             ],
             [
              0.3333333333333333,
              "#9c179e"
             ],
             [
              0.4444444444444444,
              "#bd3786"
             ],
             [
              0.5555555555555556,
              "#d8576b"
             ],
             [
              0.6666666666666666,
              "#ed7953"
             ],
             [
              0.7777777777777778,
              "#fb9f3a"
             ],
             [
              0.8888888888888888,
              "#fdca26"
             ],
             [
              1,
              "#f0f921"
             ]
            ],
            "type": "histogram2dcontour"
           }
          ],
          "mesh3d": [
           {
            "colorbar": {
             "outlinewidth": 0,
             "ticks": ""
            },
            "type": "mesh3d"
           }
          ],
          "parcoords": [
           {
            "line": {
             "colorbar": {
              "outlinewidth": 0,
              "ticks": ""
             }
            },
            "type": "parcoords"
           }
          ],
          "pie": [
           {
            "automargin": true,
            "type": "pie"
           }
          ],
          "scatter": [
           {
            "fillpattern": {
             "fillmode": "overlay",
             "size": 10,
             "solidity": 0.2
            },
            "type": "scatter"
           }
          ],
          "scatter3d": [
           {
            "line": {
             "colorbar": {
              "outlinewidth": 0,
              "ticks": ""
             }
            },
            "marker": {
             "colorbar": {
              "outlinewidth": 0,
              "ticks": ""
             }
            },
            "type": "scatter3d"
           }
          ],
          "scattercarpet": [
           {
            "marker": {
             "colorbar": {
              "outlinewidth": 0,
              "ticks": ""
             }
            },
            "type": "scattercarpet"
           }
          ],
          "scattergeo": [
           {
            "marker": {
             "colorbar": {
              "outlinewidth": 0,
              "ticks": ""
             }
            },
            "type": "scattergeo"
           }
          ],
          "scattergl": [
           {
            "marker": {
             "colorbar": {
              "outlinewidth": 0,
              "ticks": ""
             }
            },
            "type": "scattergl"
           }
          ],
          "scattermapbox": [
           {
            "marker": {
             "colorbar": {
              "outlinewidth": 0,
              "ticks": ""
             }
            },
            "type": "scattermapbox"
           }
          ],
          "scatterpolar": [
           {
            "marker": {
             "colorbar": {
              "outlinewidth": 0,
              "ticks": ""
             }
            },
            "type": "scatterpolar"
           }
          ],
          "scatterpolargl": [
           {
            "marker": {
             "colorbar": {
              "outlinewidth": 0,
              "ticks": ""
             }
            },
            "type": "scatterpolargl"
           }
          ],
          "scatterternary": [
           {
            "marker": {
             "colorbar": {
              "outlinewidth": 0,
              "ticks": ""
             }
            },
            "type": "scatterternary"
           }
          ],
          "surface": [
           {
            "colorbar": {
             "outlinewidth": 0,
             "ticks": ""
            },
            "colorscale": [
             [
              0,
              "#0d0887"
             ],
             [
              0.1111111111111111,
              "#46039f"
             ],
             [
              0.2222222222222222,
              "#7201a8"
             ],
             [
              0.3333333333333333,
              "#9c179e"
             ],
             [
              0.4444444444444444,
              "#bd3786"
             ],
             [
              0.5555555555555556,
              "#d8576b"
             ],
             [
              0.6666666666666666,
              "#ed7953"
             ],
             [
              0.7777777777777778,
              "#fb9f3a"
             ],
             [
              0.8888888888888888,
              "#fdca26"
             ],
             [
              1,
              "#f0f921"
             ]
            ],
            "type": "surface"
           }
          ],
          "table": [
           {
            "cells": {
             "fill": {
              "color": "#EBF0F8"
             },
             "line": {
              "color": "white"
             }
            },
            "header": {
             "fill": {
              "color": "#C8D4E3"
             },
             "line": {
              "color": "white"
             }
            },
            "type": "table"
           }
          ]
         },
         "layout": {
          "annotationdefaults": {
           "arrowcolor": "#2a3f5f",
           "arrowhead": 0,
           "arrowwidth": 1
          },
          "autotypenumbers": "strict",
          "coloraxis": {
           "colorbar": {
            "outlinewidth": 0,
            "ticks": ""
           }
          },
          "colorscale": {
           "diverging": [
            [
             0,
             "#8e0152"
            ],
            [
             0.1,
             "#c51b7d"
            ],
            [
             0.2,
             "#de77ae"
            ],
            [
             0.3,
             "#f1b6da"
            ],
            [
             0.4,
             "#fde0ef"
            ],
            [
             0.5,
             "#f7f7f7"
            ],
            [
             0.6,
             "#e6f5d0"
            ],
            [
             0.7,
             "#b8e186"
            ],
            [
             0.8,
             "#7fbc41"
            ],
            [
             0.9,
             "#4d9221"
            ],
            [
             1,
             "#276419"
            ]
           ],
           "sequential": [
            [
             0,
             "#0d0887"
            ],
            [
             0.1111111111111111,
             "#46039f"
            ],
            [
             0.2222222222222222,
             "#7201a8"
            ],
            [
             0.3333333333333333,
             "#9c179e"
            ],
            [
             0.4444444444444444,
             "#bd3786"
            ],
            [
             0.5555555555555556,
             "#d8576b"
            ],
            [
             0.6666666666666666,
             "#ed7953"
            ],
            [
             0.7777777777777778,
             "#fb9f3a"
            ],
            [
             0.8888888888888888,
             "#fdca26"
            ],
            [
             1,
             "#f0f921"
            ]
           ],
           "sequentialminus": [
            [
             0,
             "#0d0887"
            ],
            [
             0.1111111111111111,
             "#46039f"
            ],
            [
             0.2222222222222222,
             "#7201a8"
            ],
            [
             0.3333333333333333,
             "#9c179e"
            ],
            [
             0.4444444444444444,
             "#bd3786"
            ],
            [
             0.5555555555555556,
             "#d8576b"
            ],
            [
             0.6666666666666666,
             "#ed7953"
            ],
            [
             0.7777777777777778,
             "#fb9f3a"
            ],
            [
             0.8888888888888888,
             "#fdca26"
            ],
            [
             1,
             "#f0f921"
            ]
           ]
          },
          "colorway": [
           "#636efa",
           "#EF553B",
           "#00cc96",
           "#ab63fa",
           "#FFA15A",
           "#19d3f3",
           "#FF6692",
           "#B6E880",
           "#FF97FF",
           "#FECB52"
          ],
          "font": {
           "color": "#2a3f5f"
          },
          "geo": {
           "bgcolor": "white",
           "lakecolor": "white",
           "landcolor": "#E5ECF6",
           "showlakes": true,
           "showland": true,
           "subunitcolor": "white"
          },
          "hoverlabel": {
           "align": "left"
          },
          "hovermode": "closest",
          "mapbox": {
           "style": "light"
          },
          "paper_bgcolor": "white",
          "plot_bgcolor": "#E5ECF6",
          "polar": {
           "angularaxis": {
            "gridcolor": "white",
            "linecolor": "white",
            "ticks": ""
           },
           "bgcolor": "#E5ECF6",
           "radialaxis": {
            "gridcolor": "white",
            "linecolor": "white",
            "ticks": ""
           }
          },
          "scene": {
           "xaxis": {
            "backgroundcolor": "#E5ECF6",
            "gridcolor": "white",
            "gridwidth": 2,
            "linecolor": "white",
            "showbackground": true,
            "ticks": "",
            "zerolinecolor": "white"
           },
           "yaxis": {
            "backgroundcolor": "#E5ECF6",
            "gridcolor": "white",
            "gridwidth": 2,
            "linecolor": "white",
            "showbackground": true,
            "ticks": "",
            "zerolinecolor": "white"
           },
           "zaxis": {
            "backgroundcolor": "#E5ECF6",
            "gridcolor": "white",
            "gridwidth": 2,
            "linecolor": "white",
            "showbackground": true,
            "ticks": "",
            "zerolinecolor": "white"
           }
          },
          "shapedefaults": {
           "line": {
            "color": "#2a3f5f"
           }
          },
          "ternary": {
           "aaxis": {
            "gridcolor": "white",
            "linecolor": "white",
            "ticks": ""
           },
           "baxis": {
            "gridcolor": "white",
            "linecolor": "white",
            "ticks": ""
           },
           "bgcolor": "#E5ECF6",
           "caxis": {
            "gridcolor": "white",
            "linecolor": "white",
            "ticks": ""
           }
          },
          "title": {
           "x": 0.05
          },
          "xaxis": {
           "automargin": true,
           "gridcolor": "white",
           "linecolor": "white",
           "ticks": "",
           "title": {
            "standoff": 15
           },
           "zerolinecolor": "white",
           "zerolinewidth": 2
          },
          "yaxis": {
           "automargin": true,
           "gridcolor": "white",
           "linecolor": "white",
           "ticks": "",
           "title": {
            "standoff": 15
           },
           "zerolinecolor": "white",
           "zerolinewidth": 2
          }
         }
        },
        "width": 500
       }
      },
      "image/png": "[encoded data removed]",
      "text/html": [
       "<div>                            <div id=\"7c7c3455-e71e-4c5d-b96f-314f93326e0d\" class=\"plotly-graph-div\" style=\"height:500px; width:500px;\"></div>            <script type=\"text/javascript\">                require([\"plotly\"], function(Plotly) {                    window.PLOTLYENV=window.PLOTLYENV || {};                                    if (document.getElementById(\"7c7c3455-e71e-4c5d-b96f-314f93326e0d\")) {                    Plotly.newPlot(                        \"7c7c3455-e71e-4c5d-b96f-314f93326e0d\",                        [{\"cells\":{\"align\":\"left\",\"fill\":{\"color\":\"lightblue\"},\"line\":{\"color\":\"darkslategray\"},\"values\":[[\"roof_style_Mansard\",\"exter_qual_TA\",\"foundation_CBlock\",\"kitchen_qual_TA\",\"functional_Maj1\",\"functional_Sal\",\"bedroom_abvgr\",\"kitchen_abvgr\"],[-1435.07,-2357.28,-1467.36,-1312.13,-1869.41,-1022.75,-2122.17,-1240.14]]},\"header\":{\"align\":\"left\",\"fill\":{\"color\":\"cadetblue\"},\"line\":{\"color\":\"darkslategray\"},\"values\":[\"Feature\",\"Coefficient\"]},\"type\":\"table\"}],                        {\"template\":{\"data\":{\"histogram2dcontour\":[{\"type\":\"histogram2dcontour\",\"colorbar\":{\"outlinewidth\":0,\"ticks\":\"\"},\"colorscale\":[[0.0,\"#0d0887\"],[0.1111111111111111,\"#46039f\"],[0.2222222222222222,\"#7201a8\"],[0.3333333333333333,\"#9c179e\"],[0.4444444444444444,\"#bd3786\"],[0.5555555555555556,\"#d8576b\"],[0.6666666666666666,\"#ed7953\"],[0.7777777777777778,\"#fb9f3a\"],[0.8888888888888888,\"#fdca26\"],[1.0,\"#f0f921\"]]}],\"choropleth\":[{\"type\":\"choropleth\",\"colorbar\":{\"outlinewidth\":0,\"ticks\":\"\"}}],\"histogram2d\":[{\"type\":\"histogram2d\",\"colorbar\":{\"outlinewidth\":0,\"ticks\":\"\"},\"colorscale\":[[0.0,\"#0d0887\"],[0.1111111111111111,\"#46039f\"],[0.2222222222222222,\"#7201a8\"],[0.3333333333333333,\"#9c179e\"],[0.4444444444444444,\"#bd3786\"],[0.5555555555555556,\"#d8576b\"],[0.6666666666666666,\"#ed7953\"],[0.7777777777777778,\"#fb9f3a\"],[0.8888888888888888,\"#fdca26\"],[1.0,\"#f0f921\"]]}],\"heatmap\":[{\"type\":\"heatmap\",\"colorbar\":{\"outlinewidth\":0,\"ticks\":\"\"},\"colorscale\":[[0.0,\"#0d0887\"],[0.1111111111111111,\"#46039f\"],[0.2222222222222222,\"#7201a8\"],[0.3333333333333333,\"#9c179e\"],[0.4444444444444444,\"#bd3786\"],[0.5555555555555556,\"#d8576b\"],[0.6666666666666666,\"#ed7953\"],[0.7777777777777778,\"#fb9f3a\"],[0.8888888888888888,\"#fdca26\"],[1.0,\"#f0f921\"]]}],\"heatmapgl\":[{\"type\":\"heatmapgl\",\"colorbar\":{\"outlinewidth\":0,\"ticks\":\"\"},\"colorscale\":[[0.0,\"#0d0887\"],[0.1111111111111111,\"#46039f\"],[0.2222222222222222,\"#7201a8\"],[0.3333333333333333,\"#9c179e\"],[0.4444444444444444,\"#bd3786\"],[0.5555555555555556,\"#d8576b\"],[0.6666666666666666,\"#ed7953\"],[0.7777777777777778,\"#fb9f3a\"],[0.8888888888888888,\"#fdca26\"],[1.0,\"#f0f921\"]]}],\"contourcarpet\":[{\"type\":\"contourcarpet\",\"colorbar\":{\"outlinewidth\":0,\"ticks\":\"\"}}],\"contour\":[{\"type\":\"contour\",\"colorbar\":{\"outlinewidth\":0,\"ticks\":\"\"},\"colorscale\":[[0.0,\"#0d0887\"],[0.1111111111111111,\"#46039f\"],[0.2222222222222222,\"#7201a8\"],[0.3333333333333333,\"#9c179e\"],[0.4444444444444444,\"#bd3786\"],[0.5555555555555556,\"#d8576b\"],[0.6666666666666666,\"#ed7953\"],[0.7777777777777778,\"#fb9f3a\"],[0.8888888888888888,\"#fdca26\"],[1.0,\"#f0f921\"]]}],\"surface\":[{\"type\":\"surface\",\"colorbar\":{\"outlinewidth\":0,\"ticks\":\"\"},\"colorscale\":[[0.0,\"#0d0887\"],[0.1111111111111111,\"#46039f\"],[0.2222222222222222,\"#7201a8\"],[0.3333333333333333,\"#9c179e\"],[0.4444444444444444,\"#bd3786\"],[0.5555555555555556,\"#d8576b\"],[0.6666666666666666,\"#ed7953\"],[0.7777777777777778,\"#fb9f3a\"],[0.8888888888888888,\"#fdca26\"],[1.0,\"#f0f921\"]]}],\"mesh3d\":[{\"type\":\"mesh3d\",\"colorbar\":{\"outlinewidth\":0,\"ticks\":\"\"}}],\"scatter\":[{\"fillpattern\":{\"fillmode\":\"overlay\",\"size\":10,\"solidity\":0.2},\"type\":\"scatter\"}],\"parcoords\":[{\"type\":\"parcoords\",\"line\":{\"colorbar\":{\"outlinewidth\":0,\"ticks\":\"\"}}}],\"scatterpolargl\":[{\"type\":\"scatterpolargl\",\"marker\":{\"colorbar\":{\"outlinewidth\":0,\"ticks\":\"\"}}}],\"bar\":[{\"error_x\":{\"color\":\"#2a3f5f\"},\"error_y\":{\"color\":\"#2a3f5f\"},\"marker\":{\"line\":{\"color\":\"#E5ECF6\",\"width\":0.5},\"pattern\":{\"fillmode\":\"overlay\",\"size\":10,\"solidity\":0.2}},\"type\":\"bar\"}],\"scattergeo\":[{\"type\":\"scattergeo\",\"marker\":{\"colorbar\":{\"outlinewidth\":0,\"ticks\":\"\"}}}],\"scatterpolar\":[{\"type\":\"scatterpolar\",\"marker\":{\"colorbar\":{\"outlinewidth\":0,\"ticks\":\"\"}}}],\"histogram\":[{\"marker\":{\"pattern\":{\"fillmode\":\"overlay\",\"size\":10,\"solidity\":0.2}},\"type\":\"histogram\"}],\"scattergl\":[{\"type\":\"scattergl\",\"marker\":{\"colorbar\":{\"outlinewidth\":0,\"ticks\":\"\"}}}],\"scatter3d\":[{\"type\":\"scatter3d\",\"line\":{\"colorbar\":{\"outlinewidth\":0,\"ticks\":\"\"}},\"marker\":{\"colorbar\":{\"outlinewidth\":0,\"ticks\":\"\"}}}],\"scattermapbox\":[{\"type\":\"scattermapbox\",\"marker\":{\"colorbar\":{\"outlinewidth\":0,\"ticks\":\"\"}}}],\"scatterternary\":[{\"type\":\"scatterternary\",\"marker\":{\"colorbar\":{\"outlinewidth\":0,\"ticks\":\"\"}}}],\"scattercarpet\":[{\"type\":\"scattercarpet\",\"marker\":{\"colorbar\":{\"outlinewidth\":0,\"ticks\":\"\"}}}],\"carpet\":[{\"aaxis\":{\"endlinecolor\":\"#2a3f5f\",\"gridcolor\":\"white\",\"linecolor\":\"white\",\"minorgridcolor\":\"white\",\"startlinecolor\":\"#2a3f5f\"},\"baxis\":{\"endlinecolor\":\"#2a3f5f\",\"gridcolor\":\"white\",\"linecolor\":\"white\",\"minorgridcolor\":\"white\",\"startlinecolor\":\"#2a3f5f\"},\"type\":\"carpet\"}],\"table\":[{\"cells\":{\"fill\":{\"color\":\"#EBF0F8\"},\"line\":{\"color\":\"white\"}},\"header\":{\"fill\":{\"color\":\"#C8D4E3\"},\"line\":{\"color\":\"white\"}},\"type\":\"table\"}],\"barpolar\":[{\"marker\":{\"line\":{\"color\":\"#E5ECF6\",\"width\":0.5},\"pattern\":{\"fillmode\":\"overlay\",\"size\":10,\"solidity\":0.2}},\"type\":\"barpolar\"}],\"pie\":[{\"automargin\":true,\"type\":\"pie\"}]},\"layout\":{\"autotypenumbers\":\"strict\",\"colorway\":[\"#636efa\",\"#EF553B\",\"#00cc96\",\"#ab63fa\",\"#FFA15A\",\"#19d3f3\",\"#FF6692\",\"#B6E880\",\"#FF97FF\",\"#FECB52\"],\"font\":{\"color\":\"#2a3f5f\"},\"hovermode\":\"closest\",\"hoverlabel\":{\"align\":\"left\"},\"paper_bgcolor\":\"white\",\"plot_bgcolor\":\"#E5ECF6\",\"polar\":{\"bgcolor\":\"#E5ECF6\",\"angularaxis\":{\"gridcolor\":\"white\",\"linecolor\":\"white\",\"ticks\":\"\"},\"radialaxis\":{\"gridcolor\":\"white\",\"linecolor\":\"white\",\"ticks\":\"\"}},\"ternary\":{\"bgcolor\":\"#E5ECF6\",\"aaxis\":{\"gridcolor\":\"white\",\"linecolor\":\"white\",\"ticks\":\"\"},\"baxis\":{\"gridcolor\":\"white\",\"linecolor\":\"white\",\"ticks\":\"\"},\"caxis\":{\"gridcolor\":\"white\",\"linecolor\":\"white\",\"ticks\":\"\"}},\"coloraxis\":{\"colorbar\":{\"outlinewidth\":0,\"ticks\":\"\"}},\"colorscale\":{\"sequential\":[[0.0,\"#0d0887\"],[0.1111111111111111,\"#46039f\"],[0.2222222222222222,\"#7201a8\"],[0.3333333333333333,\"#9c179e\"],[0.4444444444444444,\"#bd3786\"],[0.5555555555555556,\"#d8576b\"],[0.6666666666666666,\"#ed7953\"],[0.7777777777777778,\"#fb9f3a\"],[0.8888888888888888,\"#fdca26\"],[1.0,\"#f0f921\"]],\"sequentialminus\":[[0.0,\"#0d0887\"],[0.1111111111111111,\"#46039f\"],[0.2222222222222222,\"#7201a8\"],[0.3333333333333333,\"#9c179e\"],[0.4444444444444444,\"#bd3786\"],[0.5555555555555556,\"#d8576b\"],[0.6666666666666666,\"#ed7953\"],[0.7777777777777778,\"#fb9f3a\"],[0.8888888888888888,\"#fdca26\"],[1.0,\"#f0f921\"]],\"diverging\":[[0,\"#8e0152\"],[0.1,\"#c51b7d\"],[0.2,\"#de77ae\"],[0.3,\"#f1b6da\"],[0.4,\"#fde0ef\"],[0.5,\"#f7f7f7\"],[0.6,\"#e6f5d0\"],[0.7,\"#b8e186\"],[0.8,\"#7fbc41\"],[0.9,\"#4d9221\"],[1,\"#276419\"]]},\"xaxis\":{\"gridcolor\":\"white\",\"linecolor\":\"white\",\"ticks\":\"\",\"title\":{\"standoff\":15},\"zerolinecolor\":\"white\",\"automargin\":true,\"zerolinewidth\":2},\"yaxis\":{\"gridcolor\":\"white\",\"linecolor\":\"white\",\"ticks\":\"\",\"title\":{\"standoff\":15},\"zerolinecolor\":\"white\",\"automargin\":true,\"zerolinewidth\":2},\"scene\":{\"xaxis\":{\"backgroundcolor\":\"#E5ECF6\",\"gridcolor\":\"white\",\"linecolor\":\"white\",\"showbackground\":true,\"ticks\":\"\",\"zerolinecolor\":\"white\",\"gridwidth\":2},\"yaxis\":{\"backgroundcolor\":\"#E5ECF6\",\"gridcolor\":\"white\",\"linecolor\":\"white\",\"showbackground\":true,\"ticks\":\"\",\"zerolinecolor\":\"white\",\"gridwidth\":2},\"zaxis\":{\"backgroundcolor\":\"#E5ECF6\",\"gridcolor\":\"white\",\"linecolor\":\"white\",\"showbackground\":true,\"ticks\":\"\",\"zerolinecolor\":\"white\",\"gridwidth\":2}},\"shapedefaults\":{\"line\":{\"color\":\"#2a3f5f\"}},\"annotationdefaults\":{\"arrowcolor\":\"#2a3f5f\",\"arrowhead\":0,\"arrowwidth\":1},\"geo\":{\"bgcolor\":\"white\",\"landcolor\":\"#E5ECF6\",\"subunitcolor\":\"white\",\"showland\":true,\"showlakes\":true,\"lakecolor\":\"white\"},\"title\":{\"x\":0.05},\"mapbox\":{\"style\":\"light\"}}},\"width\":500,\"height\":500},                        {\"responsive\": true}                    ).then(function(){\n",
       "                            \n",
       "var gd = document.getElementById('7c7c3455-e71e-4c5d-b96f-314f93326e0d');\n",
       "var x = new MutationObserver(function (mutations, observer) {{\n",
       "        var display = window.getComputedStyle(gd).display;\n",
       "        if (!display || display === 'none') {{\n",
       "            console.log([gd, 'removed!']);\n",
       "            Plotly.purge(gd);\n",
       "            observer.disconnect();\n",
       "        }}\n",
       "}});\n",
       "\n",
       "// Listen for the removal of the full notebook cells\n",
       "var notebookContainer = gd.closest('#notebook-container');\n",
       "if (notebookContainer) {{\n",
       "    x.observe(notebookContainer, {childList: true});\n",
       "}}\n",
       "\n",
       "// Listen for the clearing of the current output cell\n",
       "var outputEl = gd.closest('.output');\n",
       "if (outputEl) {{\n",
       "    x.observe(outputEl, {childList: true});\n",
       "}}\n",
       "\n",
       "                        })                };                });            </script>        </div>"
      ]
     },
     "metadata": {},
     "output_type": "display_data"
    }
   ],
   "source": [
    "import plotly.graph_objects as go\n",
    "\n",
    "fig = go.Figure(data=[go.Table(\n",
    "    header=dict(values=['Feature', 'Coefficient'],\n",
    "                line_color='darkslategray',\n",
    "                fill_color='cadetblue',\n",
    "                align='left'),\n",
    "    cells=dict(values=[df_lows.index, # 1st column\n",
    "                       df_lows.coef], # 2nd column\n",
    "               line_color='darkslategray',\n",
    "               fill_color='lightblue',\n",
    "               align='left'))\n",
    "])\n",
    "\n",
    "fig.update_layout(width=500, height=500)\n",
    "fig.show()\n",
    "\n",
    "# https://plotly.com/python/table/"
   ]
  },
  {
   "cell_type": "markdown",
   "id": "4271eecc-134f-4fde-a8e8-dfde96e82cb0",
   "metadata": {},
   "source": [
    "To share some predictions from our insights (and to provide meaningful examples to the group), let's look at two different homes and their predicted sale price based on their features."
   ]
  },
  {
   "cell_type": "code",
   "execution_count": 188,
   "id": "e955c41c-6347-40f2-988f-71406317514a",
   "metadata": {
    "tags": []
   },
   "outputs": [],
   "source": [
    "df_test = pd.read_csv('./datasets/test.csv')\n",
    "\n",
    "df_test.columns = df_test.columns.str.lower().str.replace(' ', '_')\n",
    "\n",
    "test_id = df_test['id']\n",
    "\n",
    "df_test.drop(columns=['pid'], inplace=True)\n",
    "\n",
    "df_nums_test = df_test.select_dtypes(include=[np.number])\n",
    "df_cat_test = df_test[['id', \n",
    "                   'utilities', \n",
    "                   'neighborhood', \n",
    "                   'bldg_type', \n",
    "                   'house_style', \n",
    "                   'roof_style', \n",
    "                   'mas_vnr_type', \n",
    "                   'exter_qual', \n",
    "                   'exter_cond', \n",
    "                   'foundation', \n",
    "                   'bsmt_qual', \n",
    "                   'bsmt_cond', \n",
    "                   'kitchen_qual', \n",
    "                   'functional', \n",
    "                   'garage_type', \n",
    "                   'garage_finish', \n",
    "                   'garage_qual', \n",
    "                   'garage_cond', \n",
    "                   'paved_drive', \n",
    "                   'alley',\n",
    "                   'fireplace_qu',\n",
    "                   'pool_qc',\n",
    "                   'fence',\n",
    "                   'misc_feature'\n",
    "                   ]]\n",
    "df_combined_test = pd.merge(left = df_nums_test, right = df_cat_test, how = 'inner')\n",
    "\n",
    "X = df_combined_test.drop(columns=['id'])"
   ]
  },
  {
   "cell_type": "code",
   "execution_count": 189,
   "id": "6aec90ca-5411-402a-8551-e0a2ab39588e",
   "metadata": {},
   "outputs": [
    {
     "data": {
      "text/plain": [
       "(878, 79)"
      ]
     },
     "execution_count": 189,
     "metadata": {},
     "output_type": "execute_result"
    }
   ],
   "source": [
    "df_test.shape"
   ]
  },
  {
   "cell_type": "code",
   "execution_count": 190,
   "id": "465b52e8-7b2d-486f-bd18-3b2284a522e2",
   "metadata": {},
   "outputs": [
    {
     "data": {
      "text/plain": [
       "(878, 79)"
      ]
     },
     "execution_count": 190,
     "metadata": {},
     "output_type": "execute_result"
    }
   ],
   "source": [
    "df_test.shape"
   ]
  },
  {
   "cell_type": "code",
   "execution_count": 191,
   "id": "c4f1fac3-d35e-45d6-a908-9dc7fb2d5f0f",
   "metadata": {},
   "outputs": [
    {
     "data": {
      "text/html": [
       "<div>\n",
       "<style scoped>\n",
       "    .dataframe tbody tr th:only-of-type {\n",
       "        vertical-align: middle;\n",
       "    }\n",
       "\n",
       "    .dataframe tbody tr th {\n",
       "        vertical-align: top;\n",
       "    }\n",
       "\n",
       "    .dataframe thead th {\n",
       "        text-align: right;\n",
       "    }\n",
       "</style>\n",
       "<table border=\"1\" class=\"dataframe\">\n",
       "  <thead>\n",
       "    <tr style=\"text-align: right;\">\n",
       "      <th></th>\n",
       "      <th>ms_subclass</th>\n",
       "      <th>lot_frontage</th>\n",
       "      <th>lot_area</th>\n",
       "      <th>overall_qual</th>\n",
       "      <th>overall_cond</th>\n",
       "      <th>year_built</th>\n",
       "      <th>year_remod/add</th>\n",
       "      <th>mas_vnr_area</th>\n",
       "      <th>bsmtfin_sf_1</th>\n",
       "      <th>bsmtfin_sf_2</th>\n",
       "      <th>bsmt_unf_sf</th>\n",
       "      <th>total_bsmt_sf</th>\n",
       "      <th>1st_flr_sf</th>\n",
       "      <th>2nd_flr_sf</th>\n",
       "      <th>low_qual_fin_sf</th>\n",
       "      <th>gr_liv_area</th>\n",
       "      <th>bsmt_full_bath</th>\n",
       "      <th>bsmt_half_bath</th>\n",
       "      <th>full_bath</th>\n",
       "      <th>half_bath</th>\n",
       "      <th>bedroom_abvgr</th>\n",
       "      <th>kitchen_abvgr</th>\n",
       "      <th>totrms_abvgrd</th>\n",
       "      <th>fireplaces</th>\n",
       "      <th>garage_yr_blt</th>\n",
       "      <th>garage_cars</th>\n",
       "      <th>garage_area</th>\n",
       "      <th>wood_deck_sf</th>\n",
       "      <th>open_porch_sf</th>\n",
       "      <th>enclosed_porch</th>\n",
       "      <th>3ssn_porch</th>\n",
       "      <th>screen_porch</th>\n",
       "      <th>pool_area</th>\n",
       "      <th>misc_val</th>\n",
       "      <th>mo_sold</th>\n",
       "      <th>yr_sold</th>\n",
       "      <th>utilities</th>\n",
       "      <th>neighborhood</th>\n",
       "      <th>bldg_type</th>\n",
       "      <th>house_style</th>\n",
       "      <th>roof_style</th>\n",
       "      <th>mas_vnr_type</th>\n",
       "      <th>exter_qual</th>\n",
       "      <th>exter_cond</th>\n",
       "      <th>foundation</th>\n",
       "      <th>bsmt_qual</th>\n",
       "      <th>bsmt_cond</th>\n",
       "      <th>kitchen_qual</th>\n",
       "      <th>functional</th>\n",
       "      <th>garage_type</th>\n",
       "      <th>garage_finish</th>\n",
       "      <th>garage_qual</th>\n",
       "      <th>garage_cond</th>\n",
       "      <th>paved_drive</th>\n",
       "      <th>alley</th>\n",
       "      <th>fireplace_qu</th>\n",
       "      <th>pool_qc</th>\n",
       "      <th>fence</th>\n",
       "      <th>misc_feature</th>\n",
       "    </tr>\n",
       "  </thead>\n",
       "  <tbody>\n",
       "    <tr>\n",
       "      <th>0</th>\n",
       "      <td>190</td>\n",
       "      <td>69.0</td>\n",
       "      <td>9142</td>\n",
       "      <td>6</td>\n",
       "      <td>8</td>\n",
       "      <td>1910</td>\n",
       "      <td>1950</td>\n",
       "      <td>0.0</td>\n",
       "      <td>0</td>\n",
       "      <td>0</td>\n",
       "      <td>1020</td>\n",
       "      <td>1020</td>\n",
       "      <td>908</td>\n",
       "      <td>1020</td>\n",
       "      <td>0</td>\n",
       "      <td>1928</td>\n",
       "      <td>0</td>\n",
       "      <td>0</td>\n",
       "      <td>2</td>\n",
       "      <td>0</td>\n",
       "      <td>4</td>\n",
       "      <td>2</td>\n",
       "      <td>9</td>\n",
       "      <td>0</td>\n",
       "      <td>1910.0</td>\n",
       "      <td>1</td>\n",
       "      <td>440</td>\n",
       "      <td>0</td>\n",
       "      <td>60</td>\n",
       "      <td>112</td>\n",
       "      <td>0</td>\n",
       "      <td>0</td>\n",
       "      <td>0</td>\n",
       "      <td>0</td>\n",
       "      <td>4</td>\n",
       "      <td>2006</td>\n",
       "      <td>AllPub</td>\n",
       "      <td>OldTown</td>\n",
       "      <td>2fmCon</td>\n",
       "      <td>2Story</td>\n",
       "      <td>Gable</td>\n",
       "      <td>None</td>\n",
       "      <td>TA</td>\n",
       "      <td>Fa</td>\n",
       "      <td>Stone</td>\n",
       "      <td>Fa</td>\n",
       "      <td>TA</td>\n",
       "      <td>Fa</td>\n",
       "      <td>Typ</td>\n",
       "      <td>Detchd</td>\n",
       "      <td>Unf</td>\n",
       "      <td>Po</td>\n",
       "      <td>Po</td>\n",
       "      <td>Y</td>\n",
       "      <td>Grvl</td>\n",
       "      <td>NaN</td>\n",
       "      <td>NaN</td>\n",
       "      <td>NaN</td>\n",
       "      <td>NaN</td>\n",
       "    </tr>\n",
       "    <tr>\n",
       "      <th>1</th>\n",
       "      <td>90</td>\n",
       "      <td>NaN</td>\n",
       "      <td>9662</td>\n",
       "      <td>5</td>\n",
       "      <td>4</td>\n",
       "      <td>1977</td>\n",
       "      <td>1977</td>\n",
       "      <td>0.0</td>\n",
       "      <td>0</td>\n",
       "      <td>0</td>\n",
       "      <td>1967</td>\n",
       "      <td>1967</td>\n",
       "      <td>1967</td>\n",
       "      <td>0</td>\n",
       "      <td>0</td>\n",
       "      <td>1967</td>\n",
       "      <td>0</td>\n",
       "      <td>0</td>\n",
       "      <td>2</td>\n",
       "      <td>0</td>\n",
       "      <td>6</td>\n",
       "      <td>2</td>\n",
       "      <td>10</td>\n",
       "      <td>0</td>\n",
       "      <td>1977.0</td>\n",
       "      <td>2</td>\n",
       "      <td>580</td>\n",
       "      <td>170</td>\n",
       "      <td>0</td>\n",
       "      <td>0</td>\n",
       "      <td>0</td>\n",
       "      <td>0</td>\n",
       "      <td>0</td>\n",
       "      <td>0</td>\n",
       "      <td>8</td>\n",
       "      <td>2006</td>\n",
       "      <td>AllPub</td>\n",
       "      <td>Sawyer</td>\n",
       "      <td>Duplex</td>\n",
       "      <td>1Story</td>\n",
       "      <td>Gable</td>\n",
       "      <td>None</td>\n",
       "      <td>TA</td>\n",
       "      <td>TA</td>\n",
       "      <td>CBlock</td>\n",
       "      <td>Gd</td>\n",
       "      <td>TA</td>\n",
       "      <td>TA</td>\n",
       "      <td>Typ</td>\n",
       "      <td>Attchd</td>\n",
       "      <td>Fin</td>\n",
       "      <td>TA</td>\n",
       "      <td>TA</td>\n",
       "      <td>Y</td>\n",
       "      <td>NaN</td>\n",
       "      <td>NaN</td>\n",
       "      <td>NaN</td>\n",
       "      <td>NaN</td>\n",
       "      <td>NaN</td>\n",
       "    </tr>\n",
       "    <tr>\n",
       "      <th>2</th>\n",
       "      <td>60</td>\n",
       "      <td>58.0</td>\n",
       "      <td>17104</td>\n",
       "      <td>7</td>\n",
       "      <td>5</td>\n",
       "      <td>2006</td>\n",
       "      <td>2006</td>\n",
       "      <td>0.0</td>\n",
       "      <td>554</td>\n",
       "      <td>0</td>\n",
       "      <td>100</td>\n",
       "      <td>654</td>\n",
       "      <td>664</td>\n",
       "      <td>832</td>\n",
       "      <td>0</td>\n",
       "      <td>1496</td>\n",
       "      <td>1</td>\n",
       "      <td>0</td>\n",
       "      <td>2</td>\n",
       "      <td>1</td>\n",
       "      <td>3</td>\n",
       "      <td>1</td>\n",
       "      <td>7</td>\n",
       "      <td>1</td>\n",
       "      <td>2006.0</td>\n",
       "      <td>2</td>\n",
       "      <td>426</td>\n",
       "      <td>100</td>\n",
       "      <td>24</td>\n",
       "      <td>0</td>\n",
       "      <td>0</td>\n",
       "      <td>0</td>\n",
       "      <td>0</td>\n",
       "      <td>0</td>\n",
       "      <td>9</td>\n",
       "      <td>2006</td>\n",
       "      <td>AllPub</td>\n",
       "      <td>Gilbert</td>\n",
       "      <td>1Fam</td>\n",
       "      <td>2Story</td>\n",
       "      <td>Gable</td>\n",
       "      <td>None</td>\n",
       "      <td>Gd</td>\n",
       "      <td>TA</td>\n",
       "      <td>PConc</td>\n",
       "      <td>Gd</td>\n",
       "      <td>Gd</td>\n",
       "      <td>Gd</td>\n",
       "      <td>Typ</td>\n",
       "      <td>Attchd</td>\n",
       "      <td>RFn</td>\n",
       "      <td>TA</td>\n",
       "      <td>TA</td>\n",
       "      <td>Y</td>\n",
       "      <td>NaN</td>\n",
       "      <td>Gd</td>\n",
       "      <td>NaN</td>\n",
       "      <td>NaN</td>\n",
       "      <td>NaN</td>\n",
       "    </tr>\n",
       "  </tbody>\n",
       "</table>\n",
       "</div>"
      ],
      "text/plain": [
       "   ms_subclass  lot_frontage  lot_area  overall_qual  overall_cond  \\\n",
       "0          190          69.0      9142             6             8   \n",
       "1           90           NaN      9662             5             4   \n",
       "2           60          58.0     17104             7             5   \n",
       "\n",
       "   year_built  year_remod/add  mas_vnr_area  bsmtfin_sf_1  bsmtfin_sf_2  \\\n",
       "0        1910            1950           0.0             0             0   \n",
       "1        1977            1977           0.0             0             0   \n",
       "2        2006            2006           0.0           554             0   \n",
       "\n",
       "   bsmt_unf_sf  total_bsmt_sf  1st_flr_sf  2nd_flr_sf  low_qual_fin_sf  \\\n",
       "0         1020           1020         908        1020                0   \n",
       "1         1967           1967        1967           0                0   \n",
       "2          100            654         664         832                0   \n",
       "\n",
       "   gr_liv_area  bsmt_full_bath  bsmt_half_bath  full_bath  half_bath  \\\n",
       "0         1928               0               0          2          0   \n",
       "1         1967               0               0          2          0   \n",
       "2         1496               1               0          2          1   \n",
       "\n",
       "   bedroom_abvgr  kitchen_abvgr  totrms_abvgrd  fireplaces  garage_yr_blt  \\\n",
       "0              4              2              9           0         1910.0   \n",
       "1              6              2             10           0         1977.0   \n",
       "2              3              1              7           1         2006.0   \n",
       "\n",
       "   garage_cars  garage_area  wood_deck_sf  open_porch_sf  enclosed_porch  \\\n",
       "0            1          440             0             60             112   \n",
       "1            2          580           170              0               0   \n",
       "2            2          426           100             24               0   \n",
       "\n",
       "   3ssn_porch  screen_porch  pool_area  misc_val  mo_sold  yr_sold utilities  \\\n",
       "0           0             0          0         0        4     2006    AllPub   \n",
       "1           0             0          0         0        8     2006    AllPub   \n",
       "2           0             0          0         0        9     2006    AllPub   \n",
       "\n",
       "  neighborhood bldg_type house_style roof_style mas_vnr_type exter_qual  \\\n",
       "0      OldTown    2fmCon      2Story      Gable         None         TA   \n",
       "1       Sawyer    Duplex      1Story      Gable         None         TA   \n",
       "2      Gilbert      1Fam      2Story      Gable         None         Gd   \n",
       "\n",
       "  exter_cond foundation bsmt_qual bsmt_cond kitchen_qual functional  \\\n",
       "0         Fa      Stone        Fa        TA           Fa        Typ   \n",
       "1         TA     CBlock        Gd        TA           TA        Typ   \n",
       "2         TA      PConc        Gd        Gd           Gd        Typ   \n",
       "\n",
       "  garage_type garage_finish garage_qual garage_cond paved_drive alley  \\\n",
       "0      Detchd           Unf          Po          Po           Y  Grvl   \n",
       "1      Attchd           Fin          TA          TA           Y   NaN   \n",
       "2      Attchd           RFn          TA          TA           Y   NaN   \n",
       "\n",
       "  fireplace_qu pool_qc fence misc_feature  \n",
       "0          NaN     NaN   NaN          NaN  \n",
       "1          NaN     NaN   NaN          NaN  \n",
       "2           Gd     NaN   NaN          NaN  "
      ]
     },
     "execution_count": 191,
     "metadata": {},
     "output_type": "execute_result"
    }
   ],
   "source": [
    "X.head(3)"
   ]
  },
  {
   "cell_type": "code",
   "execution_count": 192,
   "id": "b35667c3-a62c-4d40-860c-226b3f5a7e46",
   "metadata": {},
   "outputs": [],
   "source": [
    "X_enc = smart_encoder.transform(X)\n",
    "\n",
    "X_enc = pd.DataFrame(X_enc, columns = smart_encoder.get_feature_names_out())"
   ]
  },
  {
   "cell_type": "code",
   "execution_count": 193,
   "id": "7804133a-fef8-4fd4-9742-df0f1bbd55d2",
   "metadata": {},
   "outputs": [],
   "source": [
    "X_fill = si.transform(X_enc)\n",
    "\n",
    "X_fill = pd.DataFrame(X_fill, columns = si.feature_names_in_)"
   ]
  },
  {
   "cell_type": "code",
   "execution_count": 194,
   "id": "8f735452-c4f1-4587-8400-c65d6793e713",
   "metadata": {},
   "outputs": [],
   "source": [
    "X_sc = ss.transform(X_fill)\n",
    "\n",
    "X_sc = pd.DataFrame(X_sc, columns = ss.get_feature_names_out())"
   ]
  },
  {
   "cell_type": "code",
   "execution_count": 195,
   "id": "953700cf-d660-45ac-87e5-8335e5c4a3a6",
   "metadata": {
    "tags": []
   },
   "outputs": [],
   "source": [
    "preds = tt.predict(X_sc)"
   ]
  },
  {
   "cell_type": "code",
   "execution_count": 197,
   "id": "4c29969a-964d-4426-8a88-f789043895ee",
   "metadata": {},
   "outputs": [
    {
     "data": {
      "text/plain": [
       "(878, 185)"
      ]
     },
     "execution_count": 197,
     "metadata": {},
     "output_type": "execute_result"
    }
   ],
   "source": [
    "X_sc.shape"
   ]
  },
  {
   "cell_type": "code",
   "execution_count": 198,
   "id": "f22bc0f8-6e92-443e-8837-6be692bcc42a",
   "metadata": {},
   "outputs": [],
   "source": [
    "df_test['saleprice'] = preds"
   ]
  },
  {
   "cell_type": "code",
   "execution_count": 201,
   "id": "39c77896-7f94-4d6b-9dd0-822e4f2677ee",
   "metadata": {},
   "outputs": [
    {
     "data": {
      "text/plain": [
       "776"
      ]
     },
     "execution_count": 201,
     "metadata": {},
     "output_type": "execute_result"
    }
   ],
   "source": [
    "np.random.randint(0, 878)"
   ]
  },
  {
   "cell_type": "code",
   "execution_count": 212,
   "id": "bdbd252e-8b03-47e3-b47f-4dca3cc774b4",
   "metadata": {},
   "outputs": [
    {
     "data": {
      "text/plain": [
       "514"
      ]
     },
     "execution_count": 212,
     "metadata": {},
     "output_type": "execute_result"
    }
   ],
   "source": [
    "np.random.randint(0, 878)"
   ]
  },
  {
   "cell_type": "code",
   "execution_count": 214,
   "id": "45b0e9d4-9803-4700-b76c-26e7bcbd3527",
   "metadata": {},
   "outputs": [
    {
     "data": {
      "text/html": [
       "<div>\n",
       "<style scoped>\n",
       "    .dataframe tbody tr th:only-of-type {\n",
       "        vertical-align: middle;\n",
       "    }\n",
       "\n",
       "    .dataframe tbody tr th {\n",
       "        vertical-align: top;\n",
       "    }\n",
       "\n",
       "    .dataframe thead th {\n",
       "        text-align: right;\n",
       "    }\n",
       "</style>\n",
       "<table border=\"1\" class=\"dataframe\">\n",
       "  <thead>\n",
       "    <tr style=\"text-align: right;\">\n",
       "      <th></th>\n",
       "      <th>id</th>\n",
       "      <th>ms_subclass</th>\n",
       "      <th>ms_zoning</th>\n",
       "      <th>lot_frontage</th>\n",
       "      <th>lot_area</th>\n",
       "      <th>street</th>\n",
       "      <th>alley</th>\n",
       "      <th>lot_shape</th>\n",
       "      <th>land_contour</th>\n",
       "      <th>utilities</th>\n",
       "      <th>lot_config</th>\n",
       "      <th>land_slope</th>\n",
       "      <th>neighborhood</th>\n",
       "      <th>condition_1</th>\n",
       "      <th>condition_2</th>\n",
       "      <th>bldg_type</th>\n",
       "      <th>house_style</th>\n",
       "      <th>overall_qual</th>\n",
       "      <th>overall_cond</th>\n",
       "      <th>year_built</th>\n",
       "      <th>year_remod/add</th>\n",
       "      <th>roof_style</th>\n",
       "      <th>roof_matl</th>\n",
       "      <th>exterior_1st</th>\n",
       "      <th>exterior_2nd</th>\n",
       "      <th>mas_vnr_type</th>\n",
       "      <th>mas_vnr_area</th>\n",
       "      <th>exter_qual</th>\n",
       "      <th>exter_cond</th>\n",
       "      <th>foundation</th>\n",
       "      <th>bsmt_qual</th>\n",
       "      <th>bsmt_cond</th>\n",
       "      <th>bsmt_exposure</th>\n",
       "      <th>bsmtfin_type_1</th>\n",
       "      <th>bsmtfin_sf_1</th>\n",
       "      <th>bsmtfin_type_2</th>\n",
       "      <th>bsmtfin_sf_2</th>\n",
       "      <th>bsmt_unf_sf</th>\n",
       "      <th>total_bsmt_sf</th>\n",
       "      <th>heating</th>\n",
       "      <th>heating_qc</th>\n",
       "      <th>central_air</th>\n",
       "      <th>electrical</th>\n",
       "      <th>1st_flr_sf</th>\n",
       "      <th>2nd_flr_sf</th>\n",
       "      <th>low_qual_fin_sf</th>\n",
       "      <th>gr_liv_area</th>\n",
       "      <th>bsmt_full_bath</th>\n",
       "      <th>bsmt_half_bath</th>\n",
       "      <th>full_bath</th>\n",
       "      <th>half_bath</th>\n",
       "      <th>bedroom_abvgr</th>\n",
       "      <th>kitchen_abvgr</th>\n",
       "      <th>kitchen_qual</th>\n",
       "      <th>totrms_abvgrd</th>\n",
       "      <th>functional</th>\n",
       "      <th>fireplaces</th>\n",
       "      <th>fireplace_qu</th>\n",
       "      <th>garage_type</th>\n",
       "      <th>garage_yr_blt</th>\n",
       "      <th>garage_finish</th>\n",
       "      <th>garage_cars</th>\n",
       "      <th>garage_area</th>\n",
       "      <th>garage_qual</th>\n",
       "      <th>garage_cond</th>\n",
       "      <th>paved_drive</th>\n",
       "      <th>wood_deck_sf</th>\n",
       "      <th>open_porch_sf</th>\n",
       "      <th>enclosed_porch</th>\n",
       "      <th>3ssn_porch</th>\n",
       "      <th>screen_porch</th>\n",
       "      <th>pool_area</th>\n",
       "      <th>pool_qc</th>\n",
       "      <th>fence</th>\n",
       "      <th>misc_feature</th>\n",
       "      <th>misc_val</th>\n",
       "      <th>mo_sold</th>\n",
       "      <th>yr_sold</th>\n",
       "      <th>sale_type</th>\n",
       "      <th>saleprice</th>\n",
       "    </tr>\n",
       "  </thead>\n",
       "  <tbody>\n",
       "    <tr>\n",
       "      <th>776</th>\n",
       "      <td>1579</td>\n",
       "      <td>60</td>\n",
       "      <td>RL</td>\n",
       "      <td>81.0</td>\n",
       "      <td>12018</td>\n",
       "      <td>Pave</td>\n",
       "      <td>NaN</td>\n",
       "      <td>IR1</td>\n",
       "      <td>HLS</td>\n",
       "      <td>AllPub</td>\n",
       "      <td>Corner</td>\n",
       "      <td>Gtl</td>\n",
       "      <td>Timber</td>\n",
       "      <td>Norm</td>\n",
       "      <td>Norm</td>\n",
       "      <td>1Fam</td>\n",
       "      <td>2Story</td>\n",
       "      <td>7</td>\n",
       "      <td>5</td>\n",
       "      <td>2008</td>\n",
       "      <td>2008</td>\n",
       "      <td>Gable</td>\n",
       "      <td>CompShg</td>\n",
       "      <td>VinylSd</td>\n",
       "      <td>VinylSd</td>\n",
       "      <td>Stone</td>\n",
       "      <td>60.0</td>\n",
       "      <td>Gd</td>\n",
       "      <td>TA</td>\n",
       "      <td>PConc</td>\n",
       "      <td>Gd</td>\n",
       "      <td>TA</td>\n",
       "      <td>Av</td>\n",
       "      <td>Unf</td>\n",
       "      <td>0</td>\n",
       "      <td>Unf</td>\n",
       "      <td>0</td>\n",
       "      <td>796</td>\n",
       "      <td>796</td>\n",
       "      <td>GasA</td>\n",
       "      <td>Ex</td>\n",
       "      <td>Y</td>\n",
       "      <td>SBrkr</td>\n",
       "      <td>796</td>\n",
       "      <td>816</td>\n",
       "      <td>0</td>\n",
       "      <td>1612</td>\n",
       "      <td>0</td>\n",
       "      <td>0</td>\n",
       "      <td>2</td>\n",
       "      <td>1</td>\n",
       "      <td>3</td>\n",
       "      <td>1</td>\n",
       "      <td>Gd</td>\n",
       "      <td>6</td>\n",
       "      <td>Typ</td>\n",
       "      <td>0</td>\n",
       "      <td>NaN</td>\n",
       "      <td>Attchd</td>\n",
       "      <td>2008.0</td>\n",
       "      <td>Fin</td>\n",
       "      <td>3</td>\n",
       "      <td>666</td>\n",
       "      <td>TA</td>\n",
       "      <td>TA</td>\n",
       "      <td>Y</td>\n",
       "      <td>0</td>\n",
       "      <td>64</td>\n",
       "      <td>0</td>\n",
       "      <td>0</td>\n",
       "      <td>0</td>\n",
       "      <td>0</td>\n",
       "      <td>NaN</td>\n",
       "      <td>NaN</td>\n",
       "      <td>NaN</td>\n",
       "      <td>0</td>\n",
       "      <td>10</td>\n",
       "      <td>2008</td>\n",
       "      <td>New</td>\n",
       "      <td>200483.142824</td>\n",
       "    </tr>\n",
       "  </tbody>\n",
       "</table>\n",
       "</div>"
      ],
      "text/plain": [
       "       id  ms_subclass ms_zoning  lot_frontage  lot_area street alley  \\\n",
       "776  1579           60        RL          81.0     12018   Pave   NaN   \n",
       "\n",
       "    lot_shape land_contour utilities lot_config land_slope neighborhood  \\\n",
       "776       IR1          HLS    AllPub     Corner        Gtl       Timber   \n",
       "\n",
       "    condition_1 condition_2 bldg_type house_style  overall_qual  overall_cond  \\\n",
       "776        Norm        Norm      1Fam      2Story             7             5   \n",
       "\n",
       "     year_built  year_remod/add roof_style roof_matl exterior_1st  \\\n",
       "776        2008            2008      Gable   CompShg      VinylSd   \n",
       "\n",
       "    exterior_2nd mas_vnr_type  mas_vnr_area exter_qual exter_cond foundation  \\\n",
       "776      VinylSd        Stone          60.0         Gd         TA      PConc   \n",
       "\n",
       "    bsmt_qual bsmt_cond bsmt_exposure bsmtfin_type_1  bsmtfin_sf_1  \\\n",
       "776        Gd        TA            Av            Unf             0   \n",
       "\n",
       "    bsmtfin_type_2  bsmtfin_sf_2  bsmt_unf_sf  total_bsmt_sf heating  \\\n",
       "776            Unf             0          796            796    GasA   \n",
       "\n",
       "    heating_qc central_air electrical  1st_flr_sf  2nd_flr_sf  \\\n",
       "776         Ex           Y      SBrkr         796         816   \n",
       "\n",
       "     low_qual_fin_sf  gr_liv_area  bsmt_full_bath  bsmt_half_bath  full_bath  \\\n",
       "776                0         1612               0               0          2   \n",
       "\n",
       "     half_bath  bedroom_abvgr  kitchen_abvgr kitchen_qual  totrms_abvgrd  \\\n",
       "776          1              3              1           Gd              6   \n",
       "\n",
       "    functional  fireplaces fireplace_qu garage_type  garage_yr_blt  \\\n",
       "776        Typ           0          NaN      Attchd         2008.0   \n",
       "\n",
       "    garage_finish  garage_cars  garage_area garage_qual garage_cond  \\\n",
       "776           Fin            3          666          TA          TA   \n",
       "\n",
       "    paved_drive  wood_deck_sf  open_porch_sf  enclosed_porch  3ssn_porch  \\\n",
       "776           Y             0             64               0           0   \n",
       "\n",
       "     screen_porch  pool_area pool_qc fence misc_feature  misc_val  mo_sold  \\\n",
       "776             0          0     NaN   NaN          NaN         0       10   \n",
       "\n",
       "     yr_sold sale_type      saleprice  \n",
       "776     2008       New  200483.142824  "
      ]
     },
     "execution_count": 214,
     "metadata": {},
     "output_type": "execute_result"
    }
   ],
   "source": [
    "df_test.iloc[[776]]"
   ]
  },
  {
   "cell_type": "code",
   "execution_count": 215,
   "id": "6c93bc05-278a-4222-b1e5-6ee59195c0e0",
   "metadata": {},
   "outputs": [
    {
     "data": {
      "text/html": [
       "<div>\n",
       "<style scoped>\n",
       "    .dataframe tbody tr th:only-of-type {\n",
       "        vertical-align: middle;\n",
       "    }\n",
       "\n",
       "    .dataframe tbody tr th {\n",
       "        vertical-align: top;\n",
       "    }\n",
       "\n",
       "    .dataframe thead th {\n",
       "        text-align: right;\n",
       "    }\n",
       "</style>\n",
       "<table border=\"1\" class=\"dataframe\">\n",
       "  <thead>\n",
       "    <tr style=\"text-align: right;\">\n",
       "      <th></th>\n",
       "      <th>id</th>\n",
       "      <th>ms_subclass</th>\n",
       "      <th>ms_zoning</th>\n",
       "      <th>lot_frontage</th>\n",
       "      <th>lot_area</th>\n",
       "      <th>street</th>\n",
       "      <th>alley</th>\n",
       "      <th>lot_shape</th>\n",
       "      <th>land_contour</th>\n",
       "      <th>utilities</th>\n",
       "      <th>lot_config</th>\n",
       "      <th>land_slope</th>\n",
       "      <th>neighborhood</th>\n",
       "      <th>condition_1</th>\n",
       "      <th>condition_2</th>\n",
       "      <th>bldg_type</th>\n",
       "      <th>house_style</th>\n",
       "      <th>overall_qual</th>\n",
       "      <th>overall_cond</th>\n",
       "      <th>year_built</th>\n",
       "      <th>year_remod/add</th>\n",
       "      <th>roof_style</th>\n",
       "      <th>roof_matl</th>\n",
       "      <th>exterior_1st</th>\n",
       "      <th>exterior_2nd</th>\n",
       "      <th>mas_vnr_type</th>\n",
       "      <th>mas_vnr_area</th>\n",
       "      <th>exter_qual</th>\n",
       "      <th>exter_cond</th>\n",
       "      <th>foundation</th>\n",
       "      <th>bsmt_qual</th>\n",
       "      <th>bsmt_cond</th>\n",
       "      <th>bsmt_exposure</th>\n",
       "      <th>bsmtfin_type_1</th>\n",
       "      <th>bsmtfin_sf_1</th>\n",
       "      <th>bsmtfin_type_2</th>\n",
       "      <th>bsmtfin_sf_2</th>\n",
       "      <th>bsmt_unf_sf</th>\n",
       "      <th>total_bsmt_sf</th>\n",
       "      <th>heating</th>\n",
       "      <th>heating_qc</th>\n",
       "      <th>central_air</th>\n",
       "      <th>electrical</th>\n",
       "      <th>1st_flr_sf</th>\n",
       "      <th>2nd_flr_sf</th>\n",
       "      <th>low_qual_fin_sf</th>\n",
       "      <th>gr_liv_area</th>\n",
       "      <th>bsmt_full_bath</th>\n",
       "      <th>bsmt_half_bath</th>\n",
       "      <th>full_bath</th>\n",
       "      <th>half_bath</th>\n",
       "      <th>bedroom_abvgr</th>\n",
       "      <th>kitchen_abvgr</th>\n",
       "      <th>kitchen_qual</th>\n",
       "      <th>totrms_abvgrd</th>\n",
       "      <th>functional</th>\n",
       "      <th>fireplaces</th>\n",
       "      <th>fireplace_qu</th>\n",
       "      <th>garage_type</th>\n",
       "      <th>garage_yr_blt</th>\n",
       "      <th>garage_finish</th>\n",
       "      <th>garage_cars</th>\n",
       "      <th>garage_area</th>\n",
       "      <th>garage_qual</th>\n",
       "      <th>garage_cond</th>\n",
       "      <th>paved_drive</th>\n",
       "      <th>wood_deck_sf</th>\n",
       "      <th>open_porch_sf</th>\n",
       "      <th>enclosed_porch</th>\n",
       "      <th>3ssn_porch</th>\n",
       "      <th>screen_porch</th>\n",
       "      <th>pool_area</th>\n",
       "      <th>pool_qc</th>\n",
       "      <th>fence</th>\n",
       "      <th>misc_feature</th>\n",
       "      <th>misc_val</th>\n",
       "      <th>mo_sold</th>\n",
       "      <th>yr_sold</th>\n",
       "      <th>sale_type</th>\n",
       "      <th>saleprice</th>\n",
       "    </tr>\n",
       "  </thead>\n",
       "  <tbody>\n",
       "    <tr>\n",
       "      <th>514</th>\n",
       "      <td>1303</td>\n",
       "      <td>20</td>\n",
       "      <td>RM</td>\n",
       "      <td>62.0</td>\n",
       "      <td>7311</td>\n",
       "      <td>Pave</td>\n",
       "      <td>NaN</td>\n",
       "      <td>Reg</td>\n",
       "      <td>Lvl</td>\n",
       "      <td>AllPub</td>\n",
       "      <td>Corner</td>\n",
       "      <td>Gtl</td>\n",
       "      <td>OldTown</td>\n",
       "      <td>Norm</td>\n",
       "      <td>Norm</td>\n",
       "      <td>1Fam</td>\n",
       "      <td>1Story</td>\n",
       "      <td>2</td>\n",
       "      <td>5</td>\n",
       "      <td>1946</td>\n",
       "      <td>1950</td>\n",
       "      <td>Gable</td>\n",
       "      <td>CompShg</td>\n",
       "      <td>VinylSd</td>\n",
       "      <td>VinylSd</td>\n",
       "      <td>None</td>\n",
       "      <td>0.0</td>\n",
       "      <td>TA</td>\n",
       "      <td>Gd</td>\n",
       "      <td>BrkTil</td>\n",
       "      <td>TA</td>\n",
       "      <td>TA</td>\n",
       "      <td>No</td>\n",
       "      <td>Unf</td>\n",
       "      <td>0</td>\n",
       "      <td>Unf</td>\n",
       "      <td>0</td>\n",
       "      <td>407</td>\n",
       "      <td>407</td>\n",
       "      <td>GasA</td>\n",
       "      <td>TA</td>\n",
       "      <td>N</td>\n",
       "      <td>FuseA</td>\n",
       "      <td>407</td>\n",
       "      <td>0</td>\n",
       "      <td>0</td>\n",
       "      <td>407</td>\n",
       "      <td>0</td>\n",
       "      <td>0</td>\n",
       "      <td>1</td>\n",
       "      <td>0</td>\n",
       "      <td>1</td>\n",
       "      <td>1</td>\n",
       "      <td>TA</td>\n",
       "      <td>3</td>\n",
       "      <td>Typ</td>\n",
       "      <td>0</td>\n",
       "      <td>NaN</td>\n",
       "      <td>Detchd</td>\n",
       "      <td>1949.0</td>\n",
       "      <td>Unf</td>\n",
       "      <td>1</td>\n",
       "      <td>297</td>\n",
       "      <td>Fa</td>\n",
       "      <td>TA</td>\n",
       "      <td>Y</td>\n",
       "      <td>76</td>\n",
       "      <td>0</td>\n",
       "      <td>120</td>\n",
       "      <td>0</td>\n",
       "      <td>0</td>\n",
       "      <td>0</td>\n",
       "      <td>NaN</td>\n",
       "      <td>NaN</td>\n",
       "      <td>NaN</td>\n",
       "      <td>0</td>\n",
       "      <td>3</td>\n",
       "      <td>2008</td>\n",
       "      <td>WD</td>\n",
       "      <td>59801.651198</td>\n",
       "    </tr>\n",
       "  </tbody>\n",
       "</table>\n",
       "</div>"
      ],
      "text/plain": [
       "       id  ms_subclass ms_zoning  lot_frontage  lot_area street alley  \\\n",
       "514  1303           20        RM          62.0      7311   Pave   NaN   \n",
       "\n",
       "    lot_shape land_contour utilities lot_config land_slope neighborhood  \\\n",
       "514       Reg          Lvl    AllPub     Corner        Gtl      OldTown   \n",
       "\n",
       "    condition_1 condition_2 bldg_type house_style  overall_qual  overall_cond  \\\n",
       "514        Norm        Norm      1Fam      1Story             2             5   \n",
       "\n",
       "     year_built  year_remod/add roof_style roof_matl exterior_1st  \\\n",
       "514        1946            1950      Gable   CompShg      VinylSd   \n",
       "\n",
       "    exterior_2nd mas_vnr_type  mas_vnr_area exter_qual exter_cond foundation  \\\n",
       "514      VinylSd         None           0.0         TA         Gd     BrkTil   \n",
       "\n",
       "    bsmt_qual bsmt_cond bsmt_exposure bsmtfin_type_1  bsmtfin_sf_1  \\\n",
       "514        TA        TA            No            Unf             0   \n",
       "\n",
       "    bsmtfin_type_2  bsmtfin_sf_2  bsmt_unf_sf  total_bsmt_sf heating  \\\n",
       "514            Unf             0          407            407    GasA   \n",
       "\n",
       "    heating_qc central_air electrical  1st_flr_sf  2nd_flr_sf  \\\n",
       "514         TA           N      FuseA         407           0   \n",
       "\n",
       "     low_qual_fin_sf  gr_liv_area  bsmt_full_bath  bsmt_half_bath  full_bath  \\\n",
       "514                0          407               0               0          1   \n",
       "\n",
       "     half_bath  bedroom_abvgr  kitchen_abvgr kitchen_qual  totrms_abvgrd  \\\n",
       "514          0              1              1           TA              3   \n",
       "\n",
       "    functional  fireplaces fireplace_qu garage_type  garage_yr_blt  \\\n",
       "514        Typ           0          NaN      Detchd         1949.0   \n",
       "\n",
       "    garage_finish  garage_cars  garage_area garage_qual garage_cond  \\\n",
       "514           Unf            1          297          Fa          TA   \n",
       "\n",
       "    paved_drive  wood_deck_sf  open_porch_sf  enclosed_porch  3ssn_porch  \\\n",
       "514           Y            76              0             120           0   \n",
       "\n",
       "     screen_porch  pool_area pool_qc fence misc_feature  misc_val  mo_sold  \\\n",
       "514             0          0     NaN   NaN          NaN         0        3   \n",
       "\n",
       "     yr_sold sale_type     saleprice  \n",
       "514     2008       WD   59801.651198  "
      ]
     },
     "execution_count": 215,
     "metadata": {},
     "output_type": "execute_result"
    }
   ],
   "source": [
    "df_test.iloc[[514]]"
   ]
  },
  {
   "cell_type": "markdown",
   "id": "ce3f6cbb-f1c5-4c0c-9f67-3f6dc8fb4363",
   "metadata": {},
   "source": [
    "Our first example is house sale ID 1579. This home has a lot area of 12018, is in the Timber neighborhood, is a single family home, overall quality of 7, built in 2008, finished basement square footage of 796, total above ground square footage of 1612, and sold in 2008 as a new home. It's predicted sale price would be $\\$200,483.14$.\n",
    "\n",
    "Our second example is house sale ID 1303. This home has a lot area of 7311, is in the Old Town neighborhood, a single family home, overall quality of a 2, built in 1946, total finished basement square footage of 407, total above ground square footage of 407, and was sold in 2008 as a normal sale. It has a predicted price of $\\$59,801.65$.\n",
    "\n",
    "Based on the analysis of our model above, we can look at both of these examples with clarity. The price on the first home makes sense according to our model. The large lot area of the home and the total above ground square footage are the big sellers here according to our coefficients. Further, it was built in 2008 making it brand new when this data was collected. Finally, the finished basement square footage of 796 is high and very valuable. We could predict the house would sell for over two hundred thousand. For the second example, we see a significant decrease in predicted price. The kickers here are that the home is old, has a very low overall quality, a smaller above ground square footage and total finished basement square footage. All of these factors together, we can confidently predict a price of only around fifty thousand.\n",
    "\n",
    "Even if our clients fall into the category of the second home, we can use this information to give our clients both an encouraging look at their potential sell value, and a realistic view of what may happen once their home is on the market."
   ]
  },
  {
   "cell_type": "markdown",
   "id": "2096ad9f-69d7-47f3-a47c-a8890464e751",
   "metadata": {},
   "source": [
    "---\n",
    "\n",
    "**RECOMMENDATIONS AND FUTURE IMPROVEMENTS:**\n",
    "\n",
    "According to this model and data, I have several recommendations. To answer our problem statement, we should use our insights to inform our decisions and clients to choose the best listing price for their home. \n",
    "\n",
    "If we have a client that lives in the Northbridge Heights or Stone Brook neighborhoods and have a large square footage home, we can predict their house will sell for more money than a client whose house is in another neighborhood or is of a much smaller size. We can use these insights to inform our listing prices for our clients. Our problem was that we wanted to provide more accurate listing prices for our clients trying to sell their homes. I believe the insights learned here can help us get our clients more return for their house sale, and ultimately, more return for our realtor percentage. Other important insights we can help our clients with is that if, for example, they are in a neighborhood that is not Northbridge Heights or Stone Brook, their house may not be currently priced for as much money even if it is of similar quality. However, if they were to finish their basement or screen their porch, their house could potentially sell for much more. These are the ways we can use this data to help our clients. \n",
    "\n",
    "Further, if we look inwards, we can direct our marketing strategies to the neighborhoods, or home sizes, or features that sell for higher prices.\n",
    "\n",
    "In a future model, I would like to build several models based on a smaller range of features. I would target categories of data. For example, I would put all square footage related features in one model, all exterior related features in another. I believe this may give us a more pinpointed look at specific features or features that are related to other features. "
   ]
  },
  {
   "cell_type": "code",
   "execution_count": null,
   "id": "ef0dc062-1b69-48e3-bbb6-b91a09ab6705",
   "metadata": {},
   "outputs": [],
   "source": []
  }
 ],
 "metadata": {
  "kernelspec": {
   "display_name": "Python 3",
   "language": "python",
   "name": "python3"
  },
  "language_info": {
   "codemirror_mode": {
    "name": "ipython",
    "version": 3
   },
   "file_extension": ".py",
   "mimetype": "text/x-python",
   "name": "python",
   "nbconvert_exporter": "python",
   "pygments_lexer": "ipython3",
   "version": "3.8.8"
  }
 },
 "nbformat": 4,
 "nbformat_minor": 5
}

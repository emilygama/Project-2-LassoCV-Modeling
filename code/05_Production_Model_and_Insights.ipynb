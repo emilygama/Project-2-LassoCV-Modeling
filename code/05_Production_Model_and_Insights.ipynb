{
 "cells": [
  {
   "cell_type": "markdown",
   "id": "3183eef4-d534-4aa2-87ae-877539a3e46c",
   "metadata": {},
   "source": [
    "## Business Recommendations\n",
    "* Which features appear to add the most value to a home?\n",
    "* Which features hurt the value of a home the most?\n",
    "* What are things that homeowners could improve in their homes to increase the value?\n",
    "* What neighborhoods seem like they might be a good investment?\n",
    "* Do you feel that this model will generalize to other cities? How could you revise your model to make it more universal OR what date would you need from another city to make a comparable model?"
   ]
  },
  {
   "cell_type": "code",
   "execution_count": null,
   "id": "36ed13ef-d536-42e5-bfc4-220d929f8364",
   "metadata": {},
   "outputs": [],
   "source": []
  }
 ],
 "metadata": {
  "kernelspec": {
   "display_name": "Python 3",
   "language": "python",
   "name": "python3"
  },
  "language_info": {
   "codemirror_mode": {
    "name": "ipython",
    "version": 3
   },
   "file_extension": ".py",
   "mimetype": "text/x-python",
   "name": "python",
   "nbconvert_exporter": "python",
   "pygments_lexer": "ipython3",
   "version": "3.8.8"
  }
 },
 "nbformat": 4,
 "nbformat_minor": 5
}
